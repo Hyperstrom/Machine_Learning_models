{
 "cells": [
  {
   "cell_type": "markdown",
   "id": "5933f7bd",
   "metadata": {},
   "source": [
    "### import necessary packages"
   ]
  },
  {
   "cell_type": "code",
   "execution_count": 21,
   "id": "ed720c4f",
   "metadata": {},
   "outputs": [],
   "source": [
    "import pandas as pd\n",
    "import numpy as np\n",
    "import matplotlib.pyplot as plt\n",
    "import seaborn as sns\n",
    "import itertools\n",
    "import warnings"
   ]
  },
  {
   "cell_type": "code",
   "execution_count": 191,
   "id": "c620223b",
   "metadata": {},
   "outputs": [],
   "source": [
    "\n",
    "from sklearn.linear_model import LogisticRegression\n",
    "from sklearn.dummy import DummyClassifier\n",
    "from sklearn.model_selection import train_test_split, GridSearchCV\n",
    "from sklearn.pipeline import Pipeline\n",
    "from sklearn.naive_bayes import MultinomialNB\n",
    "from sklearn.naive_bayes import GaussianNB\n",
    "from sklearn.metrics import accuracy_score, f1_score, precision_score, recall_score, confusion_matrix,classification_report,ConfusionMatrixDisplay\n",
    "import re\n",
    "import nltk\n",
    "import string\n",
    "from nltk.corpus import stopwords\n",
    "from nltk import word_tokenize, FreqDist\n",
    "from nltk.stem import WordNetLemmatizer\n",
    "from wordcloud import WordCloud, STOPWORDS\n",
    "from sklearn.feature_extraction.text import TfidfVectorizer, CountVectorizer\n",
    "from sklearn.multiclass import OneVsRestClassifier\n",
    "from sklearn.ensemble import RandomForestClassifier\n",
    "from sklearn.tree import DecisionTreeClassifier\n",
    "from sklearn.svm import SVC\n",
    "from sklearn.neighbors import KNeighborsClassifier\n",
    "from sklearn.naive_bayes import GaussianNB\n",
    "from yellowbrick.text import FreqDistVisualizer\n",
    "from wordcloud import WordCloud"
   ]
  },
  {
   "cell_type": "markdown",
   "id": "2147dfb5",
   "metadata": {},
   "source": [
    "### import data"
   ]
  },
  {
   "cell_type": "code",
   "execution_count": 50,
   "id": "2672b88c",
   "metadata": {},
   "outputs": [
    {
     "data": {
      "text/html": [
       "<div>\n",
       "<style scoped>\n",
       "    .dataframe tbody tr th:only-of-type {\n",
       "        vertical-align: middle;\n",
       "    }\n",
       "\n",
       "    .dataframe tbody tr th {\n",
       "        vertical-align: top;\n",
       "    }\n",
       "\n",
       "    .dataframe thead th {\n",
       "        text-align: right;\n",
       "    }\n",
       "</style>\n",
       "<table border=\"1\" class=\"dataframe\">\n",
       "  <thead>\n",
       "    <tr style=\"text-align: right;\">\n",
       "      <th></th>\n",
       "      <th>v1</th>\n",
       "      <th>v2</th>\n",
       "      <th>Unnamed: 2</th>\n",
       "      <th>Unnamed: 3</th>\n",
       "      <th>Unnamed: 4</th>\n",
       "    </tr>\n",
       "  </thead>\n",
       "  <tbody>\n",
       "    <tr>\n",
       "      <th>0</th>\n",
       "      <td>ham</td>\n",
       "      <td>Go until jurong point, crazy.. Available only ...</td>\n",
       "      <td>NaN</td>\n",
       "      <td>NaN</td>\n",
       "      <td>NaN</td>\n",
       "    </tr>\n",
       "    <tr>\n",
       "      <th>1</th>\n",
       "      <td>ham</td>\n",
       "      <td>Ok lar... Joking wif u oni...</td>\n",
       "      <td>NaN</td>\n",
       "      <td>NaN</td>\n",
       "      <td>NaN</td>\n",
       "    </tr>\n",
       "    <tr>\n",
       "      <th>2</th>\n",
       "      <td>spam</td>\n",
       "      <td>Free entry in 2 a wkly comp to win FA Cup fina...</td>\n",
       "      <td>NaN</td>\n",
       "      <td>NaN</td>\n",
       "      <td>NaN</td>\n",
       "    </tr>\n",
       "    <tr>\n",
       "      <th>3</th>\n",
       "      <td>ham</td>\n",
       "      <td>U dun say so early hor... U c already then say...</td>\n",
       "      <td>NaN</td>\n",
       "      <td>NaN</td>\n",
       "      <td>NaN</td>\n",
       "    </tr>\n",
       "    <tr>\n",
       "      <th>4</th>\n",
       "      <td>ham</td>\n",
       "      <td>Nah I don't think he goes to usf, he lives aro...</td>\n",
       "      <td>NaN</td>\n",
       "      <td>NaN</td>\n",
       "      <td>NaN</td>\n",
       "    </tr>\n",
       "  </tbody>\n",
       "</table>\n",
       "</div>"
      ],
      "text/plain": [
       "     v1                                                 v2 Unnamed: 2  \\\n",
       "0   ham  Go until jurong point, crazy.. Available only ...        NaN   \n",
       "1   ham                      Ok lar... Joking wif u oni...        NaN   \n",
       "2  spam  Free entry in 2 a wkly comp to win FA Cup fina...        NaN   \n",
       "3   ham  U dun say so early hor... U c already then say...        NaN   \n",
       "4   ham  Nah I don't think he goes to usf, he lives aro...        NaN   \n",
       "\n",
       "  Unnamed: 3 Unnamed: 4  \n",
       "0        NaN        NaN  \n",
       "1        NaN        NaN  \n",
       "2        NaN        NaN  \n",
       "3        NaN        NaN  \n",
       "4        NaN        NaN  "
      ]
     },
     "execution_count": 50,
     "metadata": {},
     "output_type": "execute_result"
    }
   ],
   "source": [
    "data = pd.read_csv(r\"H:\\Data_Science_internship\\Assignments-Internship\\SMS spam detection\\spam.csv\",encoding=\"ISO-8859-1\")\n",
    "data.head()"
   ]
  },
  {
   "cell_type": "code",
   "execution_count": 51,
   "id": "1eaa9bab",
   "metadata": {},
   "outputs": [
    {
     "name": "stdout",
     "output_type": "stream",
     "text": [
      "<class 'pandas.core.frame.DataFrame'>\n",
      "RangeIndex: 5572 entries, 0 to 5571\n",
      "Data columns (total 5 columns):\n",
      " #   Column      Non-Null Count  Dtype \n",
      "---  ------      --------------  ----- \n",
      " 0   v1          5572 non-null   object\n",
      " 1   v2          5572 non-null   object\n",
      " 2   Unnamed: 2  50 non-null     object\n",
      " 3   Unnamed: 3  12 non-null     object\n",
      " 4   Unnamed: 4  6 non-null      object\n",
      "dtypes: object(5)\n",
      "memory usage: 217.8+ KB\n"
     ]
    }
   ],
   "source": [
    "data.info()"
   ]
  },
  {
   "cell_type": "code",
   "execution_count": 52,
   "id": "a3bc410e",
   "metadata": {},
   "outputs": [
    {
     "data": {
      "text/plain": [
       "(5572, 5)"
      ]
     },
     "execution_count": 52,
     "metadata": {},
     "output_type": "execute_result"
    }
   ],
   "source": [
    "data.shape"
   ]
  },
  {
   "cell_type": "code",
   "execution_count": 53,
   "id": "555bc5fb",
   "metadata": {},
   "outputs": [],
   "source": [
    "#DROP UNNECESSARY COLUMNS\n",
    "data = data.drop(columns = ['Unnamed: 2','Unnamed: 3','Unnamed: 4'])"
   ]
  },
  {
   "cell_type": "code",
   "execution_count": 54,
   "id": "3d8f4576",
   "metadata": {},
   "outputs": [
    {
     "data": {
      "text/html": [
       "<div>\n",
       "<style scoped>\n",
       "    .dataframe tbody tr th:only-of-type {\n",
       "        vertical-align: middle;\n",
       "    }\n",
       "\n",
       "    .dataframe tbody tr th {\n",
       "        vertical-align: top;\n",
       "    }\n",
       "\n",
       "    .dataframe thead th {\n",
       "        text-align: right;\n",
       "    }\n",
       "</style>\n",
       "<table border=\"1\" class=\"dataframe\">\n",
       "  <thead>\n",
       "    <tr style=\"text-align: right;\">\n",
       "      <th></th>\n",
       "      <th>v1</th>\n",
       "      <th>v2</th>\n",
       "    </tr>\n",
       "  </thead>\n",
       "  <tbody>\n",
       "    <tr>\n",
       "      <th>0</th>\n",
       "      <td>ham</td>\n",
       "      <td>Go until jurong point, crazy.. Available only ...</td>\n",
       "    </tr>\n",
       "    <tr>\n",
       "      <th>1</th>\n",
       "      <td>ham</td>\n",
       "      <td>Ok lar... Joking wif u oni...</td>\n",
       "    </tr>\n",
       "    <tr>\n",
       "      <th>2</th>\n",
       "      <td>spam</td>\n",
       "      <td>Free entry in 2 a wkly comp to win FA Cup fina...</td>\n",
       "    </tr>\n",
       "    <tr>\n",
       "      <th>3</th>\n",
       "      <td>ham</td>\n",
       "      <td>U dun say so early hor... U c already then say...</td>\n",
       "    </tr>\n",
       "    <tr>\n",
       "      <th>4</th>\n",
       "      <td>ham</td>\n",
       "      <td>Nah I don't think he goes to usf, he lives aro...</td>\n",
       "    </tr>\n",
       "  </tbody>\n",
       "</table>\n",
       "</div>"
      ],
      "text/plain": [
       "     v1                                                 v2\n",
       "0   ham  Go until jurong point, crazy.. Available only ...\n",
       "1   ham                      Ok lar... Joking wif u oni...\n",
       "2  spam  Free entry in 2 a wkly comp to win FA Cup fina...\n",
       "3   ham  U dun say so early hor... U c already then say...\n",
       "4   ham  Nah I don't think he goes to usf, he lives aro..."
      ]
     },
     "execution_count": 54,
     "metadata": {},
     "output_type": "execute_result"
    }
   ],
   "source": [
    "data.head()"
   ]
  },
  {
   "cell_type": "code",
   "execution_count": 55,
   "id": "6698ea46",
   "metadata": {},
   "outputs": [
    {
     "data": {
      "text/html": [
       "<div>\n",
       "<style scoped>\n",
       "    .dataframe tbody tr th:only-of-type {\n",
       "        vertical-align: middle;\n",
       "    }\n",
       "\n",
       "    .dataframe tbody tr th {\n",
       "        vertical-align: top;\n",
       "    }\n",
       "\n",
       "    .dataframe thead th {\n",
       "        text-align: right;\n",
       "    }\n",
       "</style>\n",
       "<table border=\"1\" class=\"dataframe\">\n",
       "  <thead>\n",
       "    <tr style=\"text-align: right;\">\n",
       "      <th></th>\n",
       "      <th>Label</th>\n",
       "      <th>Massages</th>\n",
       "    </tr>\n",
       "  </thead>\n",
       "  <tbody>\n",
       "    <tr>\n",
       "      <th>0</th>\n",
       "      <td>ham</td>\n",
       "      <td>Go until jurong point, crazy.. Available only ...</td>\n",
       "    </tr>\n",
       "    <tr>\n",
       "      <th>1</th>\n",
       "      <td>ham</td>\n",
       "      <td>Ok lar... Joking wif u oni...</td>\n",
       "    </tr>\n",
       "  </tbody>\n",
       "</table>\n",
       "</div>"
      ],
      "text/plain": [
       "  Label                                           Massages\n",
       "0   ham  Go until jurong point, crazy.. Available only ...\n",
       "1   ham                      Ok lar... Joking wif u oni..."
      ]
     },
     "execution_count": 55,
     "metadata": {},
     "output_type": "execute_result"
    }
   ],
   "source": [
    "# RENAME THE COLUMNS\n",
    "data.rename(columns = {'v1':'Label', 'v2':'Massages'}, inplace = True)\n",
    "data.head(2)"
   ]
  },
  {
   "cell_type": "code",
   "execution_count": 56,
   "id": "c5489de0",
   "metadata": {},
   "outputs": [
    {
     "data": {
      "text/plain": [
       "Label\n",
       "ham     4825\n",
       "spam     747\n",
       "Name: count, dtype: int64"
      ]
     },
     "execution_count": 56,
     "metadata": {},
     "output_type": "execute_result"
    }
   ],
   "source": [
    "data['Label'].value_counts()"
   ]
  },
  {
   "cell_type": "code",
   "execution_count": 35,
   "id": "7e2fa0a0",
   "metadata": {},
   "outputs": [
    {
     "data": {
      "text/plain": [
       "5572"
      ]
     },
     "execution_count": 35,
     "metadata": {},
     "output_type": "execute_result"
    }
   ],
   "source": [
    "total = len(data)\n",
    "total"
   ]
  },
  {
   "cell_type": "code",
   "execution_count": 38,
   "id": "be3b1fb1",
   "metadata": {},
   "outputs": [
    {
     "data": {
      "text/plain": [
       "747"
      ]
     },
     "execution_count": 38,
     "metadata": {},
     "output_type": "execute_result"
    }
   ],
   "source": [
    "spam = len(data[data['Label'] == 'spam'] )\n",
    "spam"
   ]
  },
  {
   "cell_type": "code",
   "execution_count": 40,
   "id": "dea3a34d",
   "metadata": {},
   "outputs": [
    {
     "data": {
      "text/plain": [
       "4825"
      ]
     },
     "execution_count": 40,
     "metadata": {},
     "output_type": "execute_result"
    }
   ],
   "source": [
    "ham = len(data[data['Label']=='ham'])\n",
    "ham"
   ]
  },
  {
   "cell_type": "code",
   "execution_count": 41,
   "id": "83165ce2",
   "metadata": {},
   "outputs": [
    {
     "name": "stdout",
     "output_type": "stream",
     "text": [
      "Total persentage of spam is : 13.406317300789663\n"
     ]
    }
   ],
   "source": [
    "persentage = (spam/total)*100\n",
    "print(\"Total persentage of spam is :\",persentage)"
   ]
  },
  {
   "cell_type": "code",
   "execution_count": 42,
   "id": "cb361a38",
   "metadata": {},
   "outputs": [
    {
     "data": {
      "image/png": "[encoded data removed]",
      "text/plain": [
       "<Figure size 800x550 with 1 Axes>"
      ]
     },
     "metadata": {},
     "output_type": "display_data"
    }
   ],
   "source": [
    "class_data = [4825,747]\n",
    "class_lebel = ['ham','spam']\n",
    "\n",
    "# Plotting data on chart\n",
    "plt.pie(class_data, labels=class_lebel, autopct='%.2f%%')\n",
    "\n",
    "# Add title to the chart\n",
    "plt.title('Pie chat of messages ')\n",
    "\n",
    "# Displaying chart\n",
    "plt.show()"
   ]
  },
  {
   "cell_type": "markdown",
   "id": "f427b14c",
   "metadata": {},
   "source": [
    "### Data cleaning"
   ]
  },
  {
   "cell_type": "code",
   "execution_count": 44,
   "id": "1dd9eecb",
   "metadata": {},
   "outputs": [],
   "source": [
    "import nltk \n",
    "from nltk import *"
   ]
  },
  {
   "cell_type": "code",
   "execution_count": 46,
   "id": "785921d5",
   "metadata": {},
   "outputs": [
    {
     "name": "stderr",
     "output_type": "stream",
     "text": [
      "[nltk_data] Downloading package stopwords to\n",
      "[nltk_data]     C:\\Users\\anike\\AppData\\Roaming\\nltk_data...\n",
      "[nltk_data]   Package stopwords is already up-to-date!\n"
     ]
    }
   ],
   "source": [
    "from nltk.tokenize import sent_tokenize,word_tokenize\n",
    "from nltk.corpus import stopwords\n",
    "nltk.download('stopwords')\n",
    "from nltk.stem import SnowballStemmer"
   ]
  },
  {
   "cell_type": "code",
   "execution_count": 47,
   "id": "d4749680",
   "metadata": {},
   "outputs": [],
   "source": [
    "stop_words = stopwords.words('english')\n",
    "stemmer = SnowballStemmer('english')\n",
    "\n",
    "text_cleaning_re = \"@\\S+|https?:\\S+|http?:\\S|[^A-Za-z0-9]+\""
   ]
  },
  {
   "cell_type": "code",
   "execution_count": 57,
   "id": "c5a08fd3",
   "metadata": {},
   "outputs": [
    {
     "data": {
      "text/html": [
       "<div>\n",
       "<style scoped>\n",
       "    .dataframe tbody tr th:only-of-type {\n",
       "        vertical-align: middle;\n",
       "    }\n",
       "\n",
       "    .dataframe tbody tr th {\n",
       "        vertical-align: top;\n",
       "    }\n",
       "\n",
       "    .dataframe thead th {\n",
       "        text-align: right;\n",
       "    }\n",
       "</style>\n",
       "<table border=\"1\" class=\"dataframe\">\n",
       "  <thead>\n",
       "    <tr style=\"text-align: right;\">\n",
       "      <th></th>\n",
       "      <th>Label</th>\n",
       "      <th>Massages</th>\n",
       "    </tr>\n",
       "  </thead>\n",
       "  <tbody>\n",
       "    <tr>\n",
       "      <th>0</th>\n",
       "      <td>ham</td>\n",
       "      <td>Go until jurong point, crazy.. Available only ...</td>\n",
       "    </tr>\n",
       "    <tr>\n",
       "      <th>1</th>\n",
       "      <td>ham</td>\n",
       "      <td>Ok lar... Joking wif u oni...</td>\n",
       "    </tr>\n",
       "    <tr>\n",
       "      <th>2</th>\n",
       "      <td>spam</td>\n",
       "      <td>Free entry in 2 a wkly comp to win FA Cup fina...</td>\n",
       "    </tr>\n",
       "    <tr>\n",
       "      <th>3</th>\n",
       "      <td>ham</td>\n",
       "      <td>U dun say so early hor... U c already then say...</td>\n",
       "    </tr>\n",
       "    <tr>\n",
       "      <th>4</th>\n",
       "      <td>ham</td>\n",
       "      <td>Nah I don't think he goes to usf, he lives aro...</td>\n",
       "    </tr>\n",
       "  </tbody>\n",
       "</table>\n",
       "</div>"
      ],
      "text/plain": [
       "  Label                                           Massages\n",
       "0   ham  Go until jurong point, crazy.. Available only ...\n",
       "1   ham                      Ok lar... Joking wif u oni...\n",
       "2  spam  Free entry in 2 a wkly comp to win FA Cup fina...\n",
       "3   ham  U dun say so early hor... U c already then say...\n",
       "4   ham  Nah I don't think he goes to usf, he lives aro..."
      ]
     },
     "execution_count": 57,
     "metadata": {},
     "output_type": "execute_result"
    }
   ],
   "source": [
    "data.head()"
   ]
  },
  {
   "cell_type": "code",
   "execution_count": 63,
   "id": "46c693fe",
   "metadata": {},
   "outputs": [
    {
     "data": {
      "text/plain": [
       "'Go until jurong point, crazy.. Available only in bugis n great world la e buffet... Cine there got amore wat...'"
      ]
     },
     "execution_count": 63,
     "metadata": {},
     "output_type": "execute_result"
    }
   ],
   "source": [
    "sentences = list(np.array(data[\"Massages\"]))\n",
    "sentences[0]"
   ]
  },
  {
   "cell_type": "code",
   "execution_count": 64,
   "id": "6b34a39a",
   "metadata": {},
   "outputs": [],
   "source": [
    "lem = WordNetLemmatizer() "
   ]
  },
  {
   "cell_type": "code",
   "execution_count": 65,
   "id": "84d4ba5e",
   "metadata": {},
   "outputs": [
    {
     "data": {
      "text/plain": [
       "['go jurong point crazy available bugis n great world la e buffet cine get amore wat',\n",
       " 'ok lar joke wif u oni',\n",
       " 'free entry 2 wkly comp win fa cup final tkts 21st may 2005 text fa 87121 receive entry question std txt rate c apply 08452810075over18',\n",
       " 'u dun say early hor u c already say',\n",
       " 'nah think go usf live around though',\n",
       " 'freemsg hey darling 3 week word back like fun still tb ok xxx std chgs send 1 50 rcv',\n",
       " 'even brother like speak treat like aid patent',\n",
       " 'per request melle melle oru minnaminunginte nurungu vettam set callertune callers press 9 copy friends callertune',\n",
       " 'winner value network customer select receivea 900 prize reward claim call 09061701461 claim code kl341 valid 12 hours',\n",
       " 'mobile 11 months u r entitle update latest colour mobiles camera free call mobile update co free 08002986030',\n",
       " 'gonna home soon want talk stuff anymore tonight k cry enough today',\n",
       " 'six chance win cash 100 20 000 pound txt csh11 send 87575 cost 150p day 6days 16 tsandcs apply reply hl 4 info',\n",
       " 'urgent win 1 week free membership 100 000 prize jackpot txt word claim 81010 c www dbuk net lccltd pobox 4403ldnw1a7rw18',\n",
       " 'search right word thank breather promise wont take help grant fulfil promise wonderful bless time',\n",
       " 'date sunday',\n",
       " 'xxxmobilemovieclub use credit click wap link next txt message click xxxmobilemovieclub com n qjkgighjjgcbl',\n",
       " 'oh k watch',\n",
       " 'eh u remember 2 spell name yes v naughty make v wet',\n",
       " 'fine way u feel way gota b',\n",
       " 'england v macedonia dont miss goals team news txt ur national team 87077 eg england 87077 try wales scotland 4txt 1 20 poboxox36504w45wq 16',\n",
       " 'seriously spell name',\n",
       " 'go try 2 months ha ha joke',\n",
       " 'pay first lar da stock comin',\n",
       " 'aft finish lunch go str lor ard 3 smth lor u finish ur lunch already',\n",
       " 'ffffffffff alright way meet sooner',\n",
       " 'force eat slice really hungry tho suck mark get worry know sick turn pizza lol',\n",
       " 'lol always convince',\n",
       " 'catch bus fry egg make tea eat mom leave dinner feel love',\n",
       " 'back amp pack car let know room',\n",
       " 'ahhh work vaguely remember feel like lol',\n",
       " 'wait still clear sure sarcastic x want live us',\n",
       " 'yeah get 2 v apologetic n fall actin like spoil child get catch till 2 win go badly cheer',\n",
       " 'k tell anything',\n",
       " 'fear faint housework quick cuppa',\n",
       " 'thank subscription ringtone uk mobile charge 5 month please confirm reply yes reply charge',\n",
       " 'yup ok go home look time msg xuhui go learn 2nd may lesson 8am',\n",
       " 'oops let know roommate',\n",
       " 'see letter b car',\n",
       " 'anything lor u decide',\n",
       " 'hello saturday go texting see decide anything tomo try invite anything',\n",
       " 'pls go ahead watts want sure great weekend abiola',\n",
       " 'forget tell want need crave love sweet arabian steed mmmmmm yummy',\n",
       " '07732584351 rodger burn msg try call reply sms free nokia mobile free camcorder please call 08000930705 delivery tomorrow',\n",
       " 'see',\n",
       " 'great hope like man well endow lt gt inch',\n",
       " 'call message miss call',\n",
       " 'get hep b immunisation nigeria',\n",
       " 'fair enough anything go',\n",
       " 'yeah hopefully tyler could maybe ask around bite',\n",
       " 'u know stubborn even want go hospital keep tell mark weak sucker hospitals weak suckers',\n",
       " 'think first time saw class',\n",
       " 'gram usually run like lt gt half eighth smarter though get almost whole second gram lt gt',\n",
       " 'k fyi x ride early tomorrow morning crash place tonight',\n",
       " 'wow never realize embarassed accomodations think like since best could always seem happy cave sorry give sorry offer sorry room embarassing',\n",
       " 'sms ac sptv new jersey devil detroit red wing play ice hockey correct incorrect end reply end sptv',\n",
       " 'know mallika sherawat yesterday find lt url gt',\n",
       " 'congrats 1 year special cinema pass 2 call 09061209465 c suprman v matrix3 starwars3 etc 4 free bx420 ip4 5we 150pm dont miss',\n",
       " 'sorry call later meet',\n",
       " 'tell reach',\n",
       " 'yes gauti sehwag odi series',\n",
       " 'gonna pick 1 burger way home even move pain kill',\n",
       " 'ha ha ha good joke girls situation seekers',\n",
       " 'part check iq',\n",
       " 'sorry roommates take forever ok come',\n",
       " 'ok lar double check wif da hair dresser already say wun cut v short say cut look nice',\n",
       " 'value customer please advise follow recent review mob award 1500 bonus prize call 09066364589',\n",
       " 'today song dedicate day song u dedicate send ur valuable frnds first rply',\n",
       " 'urgent ur award complimentary trip eurodisinc trav aco entry41 1000 claim txt dis 87121 18 6 1 50 morefrmmob shracomorsglsuplt 10 ls1 3aj',\n",
       " 'hear new divorce barbie come ken stuff',\n",
       " 'plane give month end',\n",
       " 'wah lucky man save money hee',\n",
       " 'finish class',\n",
       " 'hi babe im home wanna something xx',\n",
       " 'k k perform',\n",
       " 'u call',\n",
       " 'wait machan call free',\n",
       " 'thats cool gentleman treat dignity respect',\n",
       " 'like people much shy pa',\n",
       " 'operate lt gt',\n",
       " 'still look job much ta earn',\n",
       " 'sorry call later',\n",
       " 'k call ah',\n",
       " 'ok way home hi hi',\n",
       " 'place man',\n",
       " 'yup next stop',\n",
       " 'call later network urgnt sms',\n",
       " 'real u get yo need 2 ticket one jacket already use multis',\n",
       " 'yes start send request make pain come back back bed double coin factory gotta cash nitros',\n",
       " 'really still tonight babe',\n",
       " 'ela kano il download come wen ur free',\n",
       " 'yeah stand close tho catch something',\n",
       " 'sorry pain ok meet another night spend late afternoon casualty mean stuff42moro include time sheet sorry',\n",
       " 'smile pleasure smile pain smile trouble pour like rain smile sum1 hurt u smile becoz someone still love see u smile',\n",
       " 'please call customer service representative 0800 169 6031 10am 9pm win guarantee 1000 cash 5000 prize',\n",
       " 'havent plan buy later check already lido get 530 show e afternoon u finish work already',\n",
       " 'free ringtone wait collect simply text password mix 85069 verify get usher britney fml',\n",
       " 'watch telugu movie wat abt u',\n",
       " 'see finish load loan pay',\n",
       " 'hi wk ok hols yes bite run forget hairdressers appointment four need get home n shower beforehand cause prob u ham',\n",
       " 'please text anymore nothing else say',\n",
       " 'okay name ur price long legal wen pick u ave x ams xx',\n",
       " 'still look car buy go 4the drive test yet',\n",
       " 'per request melle melle oru minnaminunginte nurungu vettam set callertune callers press 9 copy friends callertune',\n",
       " 'wow right mean guess give boston men change search location nyc something change cuz signin page still say boston',\n",
       " 'umma life vava umma love lot dear',\n",
       " 'thank lot wish birthday thank make birthday truly memorable',\n",
       " 'aight hit get cash',\n",
       " 'would ip address test consider computer minecraft server',\n",
       " 'know grumpy old people mom like better lie always one play joke',\n",
       " 'dont worry guess busy',\n",
       " 'plural noun research',\n",
       " 'go dinner msg',\n",
       " 'ok wif cos like 2 try new things scar u dun like mah cos u say loud',\n",
       " 'gent try contact last weekend draw show win 1000 prize guarantee call 09064012160 claim code k52 valid 12hrs 150ppm',\n",
       " 'wa ur openin sentence formal anyway fine juz tt eatin much n puttin weight haha anythin special happen',\n",
       " 'enter cabin pa say happy b day boss felt special askd 4 lunch lunch invite apartment go',\n",
       " 'winner u specially select 2 receive 1000 4 holiday flight inc speak live operator 2 claim 0871277810910p min 18',\n",
       " 'goodo yes must speak friday egg potato ratio tortilla need',\n",
       " 'hmm uncle inform pay school directly pls buy food',\n",
       " 'private 2004 account statement 07742676969 show 786 unredeemed bonus point claim call 08719180248 identifier code 45239 expire',\n",
       " 'urgent mobile award 2000 bonus caller prize 5 9 03 final try contact u call landline 09064019788 box42wr29c 150ppm',\n",
       " 'new address apples pair malarky',\n",
       " 'todays voda number end 7548 select receive 350 award match please call 08712300220 quote claim code 4041 standard rat app',\n",
       " 'go sao mu today 12',\n",
       " 'predict wat time finish buy',\n",
       " 'good stuff',\n",
       " 'know yetunde send money yet send text bother send dont involve anything impose anything first place apologise',\n",
       " 'room',\n",
       " 'hey girl r u hope u r well del r bak long time c give call sum time lucyxx',\n",
       " 'k k much cost',\n",
       " 'home',\n",
       " 'dear call tmorrow pls accomodate',\n",
       " 'first answer question',\n",
       " 'sunshine quiz wkly q win top sony dvd player u know country algarve txt ansr 82277 1 50 sp tyrone',\n",
       " 'want 2 get lay tonight want real dog locations send direct 2 ur mob join uk largest dog network bt txting gravel 69888 nt ec2a 31p msg',\n",
       " 'haf msn yijue',\n",
       " 'call meet',\n",
       " 'check room befor activities',\n",
       " 'rcv msgs chat svc free hardcore service text go 69988 u get nothing u must age verify yr network try',\n",
       " 'get c lazy type forget lect saw pouch like v nice',\n",
       " 'k text way',\n",
       " 'sir wait mail',\n",
       " 'swt think nver get tire little things 4 lovable persons coz somtimes little things occupy biggest part hearts gud ni8',\n",
       " 'know pls open back',\n",
       " 'yes see ya dot',\n",
       " 'whats staff name take class us',\n",
       " 'freemsg reply text randy sexy female live local luv hear u netcollex ltd 08700621170150p per msg reply stop end',\n",
       " 'ummma call check life begin qatar pls pray hard',\n",
       " 'k delete contact',\n",
       " 'sindu get job birla soft',\n",
       " 'wine flow nevering',\n",
       " 'yup thk cine better cos need 2 go 2 plaza mah',\n",
       " 'ok ur typical reply',\n",
       " 'per request melle melle oru minnaminunginte nurungu vettam set callertune callers press 9 copy friends callertune',\n",
       " 'everywhere dirt floor windows even shirt sometimes open mouth come flow dream world without half chores time joy lot tv show see guess like things must exist like rain hail mist time become one',\n",
       " 'aaooooright work',\n",
       " 'leave house',\n",
       " 'hello love get interview today happy good boy think miss',\n",
       " 'customer service annoncement new years delivery wait please call 07046744435 arrange delivery',\n",
       " 'winner u specially select 2 receive 1000 cash 4 holiday flight inc speak live operator 2 claim 0871277810810',\n",
       " 'keep safe need miss already envy everyone see real life',\n",
       " 'new car house parent new job hand',\n",
       " 'love excite day spend make happy',\n",
       " 'pls stop bootydelious 32 f invite friend reply yes 434 434 see www sms ac u bootydelious stop send stop frnd 62468',\n",
       " 'bangbabes ur order way u receive service msg 2 download ur content u goto wap bangb tv ur mobile internet service menu',\n",
       " 'place ur point e culture module already',\n",
       " 'urgent try contact last weekend draw show win 900 prize guarantee call 09061701939 claim code s89 valid 12hrs',\n",
       " 'hi frnd best way avoid missunderstding wit beloved one',\n",
       " 'great escape fancy bridge need lager see tomo',\n",
       " 'yes completely form clark also utter waste',\n",
       " 'sir need axis bank account bank address',\n",
       " 'hmmm thk sure get time hop ard ya go 4 free abt muz call u discuss liao',\n",
       " 'time come later',\n",
       " 'bloody hell cant believe forget surname mr ill give u clue spanish begin',\n",
       " 'well gonna finish bath good fine night',\n",
       " 'let know get money carlos make call',\n",
       " 'u still go mall',\n",
       " 'turn friends stay whole show win back til lt gt feel free go ahead smoke lt gt worth',\n",
       " 'text doesnt reply let know log',\n",
       " 'hi speak maneesha v like know satisfy experience reply toll free yes',\n",
       " 'lift hop offer money need especially end month approach hurt study anyways gr8 weekend',\n",
       " 'lol u trust',\n",
       " 'ok gentleman treat dignity respect',\n",
       " 'guy close',\n",
       " 'go nothing great bye',\n",
       " 'hello handsome find job lazy work towards get back net mummy boytoy miss',\n",
       " 'haha awesome minute',\n",
       " 'please call customer service representative freephone 0808 145 4742 9am 11pm win guarantee 1000 cash 5000 prize',\n",
       " 'get xmas radio time get',\n",
       " 'jus reach home go bathe first sis use net tell u finish k',\n",
       " 'unique enough find 30th august www areyouunique co uk',\n",
       " 'sorry join league people dont keep touch mean great deal friend time even great personal cost great week',\n",
       " 'hi finally complete course',\n",
       " 'stop however suggest stay someone able give ors every stool',\n",
       " 'hope settle new school year wishin gr8 day',\n",
       " 'gud mrng dear hav nice day',\n",
       " 'u get persons story',\n",
       " 'hamster dead hey tmr meet 1pm orchard mrt',\n",
       " 'hi kate even hope see tomorrow bite bloody babyjontet txt back u xxx',\n",
       " 'find enc lt gt',\n",
       " 'send lt gt buck',\n",
       " 'hello darlin ive finish college txt u finish u love kate xxx',\n",
       " 'account refill successfully inr lt decimal gt keralacircle prepay account balance rs lt decimal gt transaction id kr lt gt',\n",
       " 'goodmorning sleep ga',\n",
       " 'u call alter 11 ok',\n",
       " 'say like dat dun buy ericsson oso cannot oredi lar',\n",
       " 'enter cabin pa say happy b day boss felt special askd 4 lunch lunch invite apartment go',\n",
       " 'aight yo dats straight dogg',\n",
       " 'please give us connection today lt decimal gt refund bill',\n",
       " 'shoot big load get ready',\n",
       " 'bruv hope great break reward semester',\n",
       " 'home always chat',\n",
       " 'k k good study well',\n",
       " 'yup noe leh',\n",
       " 'sound great home',\n",
       " 'finally match head towards draw prediction',\n",
       " 'tire sleep well past nights',\n",
       " 'easy ah sen get select mean good',\n",
       " 'take exam march 3',\n",
       " 'yeah think use gt atm register sure anyway help let know sure ready',\n",
       " 'ok prob take ur time',\n",
       " 'os call ubandu run without instal hard disk use os copy important file system give repair shop',\n",
       " 'sorry call later',\n",
       " 'u say leh course nothing happen lar say v romantic jus bite lor thk e nite scenery nice leh',\n",
       " '500 new mobiles 2004 must go txt nokia 89545 collect today 1 www 4 tc biz 2optout 087187262701 50gbp mtmsg18',\n",
       " 'would really appreciate call need someone talk',\n",
       " 'u meet ur dream partner soon ur career 2 flyng start 2 find free txt horo follow ur star sign e g horo aries',\n",
       " 'hey company elama po mudyadhu',\n",
       " 'life strict teacher bcoz teacher teach lesson amp conduct exam life first conduct exam amp teach lessons happy morning',\n",
       " 'dear good morning',\n",
       " 'get gandhipuram walk cross cut road right side lt gt street road turn first right',\n",
       " 'dear go rubber place',\n",
       " 'sorry battery die yeah',\n",
       " 'yes tv always available work place',\n",
       " 'text meet someone sexy today u find date even flirt u join 4 10p reply name age eg sam 25 18 msg recd pence',\n",
       " 'print oh lt gt come upstairs',\n",
       " 'ill little closer like bus stop street',\n",
       " 'wil reach',\n",
       " 'new theory argument win situation lose person dont argue ur friends kick amp say always correct',\n",
       " 'u 447801259231 secret admirer look 2 make contact u find r reveal think ur special call 09058094597',\n",
       " 'tomarrow final hear laptop case cant',\n",
       " 'pleassssssseeeeee tel v avent sportsx',\n",
       " 'okay shin mean sign sound better',\n",
       " 'although tell u dat baig face watch really like e watch u give cos fr u thanx 4 everything dat u today touch',\n",
       " 'u remember old commercial',\n",
       " 'late say website dont slippers',\n",
       " 'ask call ok',\n",
       " 'kallis wont bat 2nd innings',\n",
       " 'didnt work oh ok goodnight fix ready time wake dearly miss good night sleep',\n",
       " 'congratulations ur award 500 cd vouchers 125gift guarantee free entry 2 100 wkly draw txt music 87066 tncs www ldew com1win150ppmx3age16',\n",
       " 'ranjith cal drpd deeraj deepak 5min hold',\n",
       " 'wen ur lovable bcums angry wid u dnt take seriously coz angry childish n true way show deep affection care n luv kettoda manda nice day da',\n",
       " '',\n",
       " '3days also ship company take 2wks way usps take week get lag may bribe nipost get stuff',\n",
       " 'back lemme know ready',\n",
       " 'necessarily expect get back though headin',\n",
       " 'mmm yummy babe nice jolt suzy',\n",
       " 'lover need',\n",
       " 'try contact reply offer video handset 750 anytime network mins unlimited text camcorder reply call 08000930705',\n",
       " 'park next mini come today think',\n",
       " 'yup',\n",
       " 'anyway go shop cos sis yet dun disturb u liao',\n",
       " 'luton 0125698789 ring ur around h',\n",
       " 'hey really horny want chat see naked text hot 69698 text charge 150pm unsubscribe text stop 69698',\n",
       " 'dint come us',\n",
       " 'wana plan trip sometme',\n",
       " 'sure yet still try get hold',\n",
       " 'ur ringtone service change 25 free credit go club4mobiles com choose content stop txt club stop 87070 150p wk club4 po box1146 mk45 2wt',\n",
       " 'evo download flash jealous',\n",
       " 'ringtone club get uk single chart mobile week choose top quality ringtone message free charge',\n",
       " 'come mu sort narcotics situation',\n",
       " 'night end another day morning come special way may smile like sunny ray leave worry blue blue bay',\n",
       " 'hmv bonus special 500 pound genuine hmv vouchers win answer 4 easy question play send hmv 86688 info www 100percent real com',\n",
       " 'usf guess might well take 1 car',\n",
       " 'objection bf come',\n",
       " 'thanx',\n",
       " 'tell rob mack gf theater',\n",
       " 'awesome see bite',\n",
       " 'send type food like',\n",
       " 'hand celebrations full swing yet',\n",
       " 'get call tool',\n",
       " 'wen u miss someone',\n",
       " 'ok ask money far',\n",
       " 'okie',\n",
       " 'yeah think usual guy still pass last night get ahold anybody let know throw',\n",
       " 'k might come tonight class let early',\n",
       " 'ok',\n",
       " 'hi baby im cruisin girl friend r u 2 give call hour home thats alright fone fone love jenny xxx',\n",
       " 'life mean lot love life love people life world call friends call world ge',\n",
       " 'dear shall mail tonite busy street shall update tonite things look ok varunnathu edukkukayee raksha ollu good one real sense',\n",
       " 'hey tell name gautham ah',\n",
       " 'haf u find feel stupid da v cam work',\n",
       " 'oops 4 get bite',\n",
       " 'much buzy',\n",
       " 'accidentally delete message resend please',\n",
       " 'mobile customer may claim free camera phone upgrade pay go sim card loyalty call 0845 021 3680 offer end 28thfeb c apply',\n",
       " 'unless situation go gurl would appropriate',\n",
       " 'hurt tease make cry end life die plz keep one rise grave say stupid miss u nice day bslvyl',\n",
       " 'cant pick phone right pls send message',\n",
       " 'need coffee run tomo believe time week already',\n",
       " 'awesome remember last time get somebody high first time diesel v',\n",
       " 'shit really shock scary cant imagine second def night u think somewhere could crash night save taxi',\n",
       " 'oh way food fridge want go meal tonight',\n",
       " 'womdarfull actor',\n",
       " 'sms ac blind date 4u rodds1 21 aberdeen unite kingdom check sms ac w icmb3cktz8r7 4 blind date send hide',\n",
       " 'yup remb think book',\n",
       " 'jos ask u wana meet',\n",
       " 'lol yes friendship hang thread cause u win buy stuff',\n",
       " 'themob check newest selection content game tone gossip babes sport keep mobile fit funky text wap 82468',\n",
       " 'garage key bookshelf',\n",
       " 'today accept day u accept brother sister lover dear1 best1 clos1 lvblefrnd jstfrnd cutefrnd lifpartnr belovd swtheart bstfrnd rply mean enemy',\n",
       " 'think ur smart win 200 week weekly quiz text play 85222 cs winnersclub po box 84 m26 3uz 16 gbp1 50 week',\n",
       " 'say give call friend get money definitely buy end week',\n",
       " 'hi way u 2day normal way real ur unique hope know u 4 rest mylife hope u find wot lose',\n",
       " 'make day great day',\n",
       " 'k k advance happy pongal',\n",
       " 'hmmm guess go 4 kb n power yoga haha dunno tahan power yoga anot thk get lo oso forget liao',\n",
       " 'really dude friends afraid',\n",
       " 'december mobile 11mths entitle update latest colour camera mobile free call mobile update co free 08002986906',\n",
       " 'coffee cake guess',\n",
       " 'merry christmas babe love ya kiss',\n",
       " 'hey dont go watch x men lunch haha',\n",
       " 'cud u tell ppl im gona b bite l8 cos 2 bus hav gon past cos full im still waitin 4 1 pete x',\n",
       " 'would great guild could meet bristol road somewhere get touch weekend plan take flight good week',\n",
       " 'problem',\n",
       " 'call message miss call',\n",
       " 'hi da todays class',\n",
       " 'say good sign well know track record read women',\n",
       " 'cool text park',\n",
       " 'read text send mean joke read light',\n",
       " 'k k apo k good movie',\n",
       " 'maybe could get book tomo return immediately something',\n",
       " 'call germany 1 pence per minute call fix line via access number 0844 861 85 85 prepayment direct access',\n",
       " 'chance might evaporate soon violate privacy steal phone number employer paperwork cool please contact report supervisor',\n",
       " 'valentines day special win 1000 quiz take partner trip lifetime send go 83600 150p msg rcvd custcare 08718720201',\n",
       " 'ta daaaaa home babe still',\n",
       " 'cool come havent win din',\n",
       " 'sleep surf',\n",
       " 'sorry call later',\n",
       " 'u call right call hand phone',\n",
       " 'ok great thanx lot',\n",
       " 'take post come must 1000s texts happy read one wiv hello caroline end favourite bless',\n",
       " 'u hide stranger',\n",
       " 'interest like',\n",
       " 'sister clear two round birla soft yesterday',\n",
       " 'gudnite tc practice go',\n",
       " 'dis yijue jus saw ur mail case huiming havent send u num dis num',\n",
       " 'one small prestige problem',\n",
       " 'fancy shag interest sextextuk com txt xxuk suzy 69876 txts cost 1 50 per msg tncs website x',\n",
       " 'check really miss see jeremiah great month',\n",
       " 'nah help never iphone',\n",
       " 'car hour half go apeshit',\n",
       " 'today sorry day ever angry ever misbehave hurt plz plz slap urself bcoz ur fault basically good',\n",
       " 'yo guy ever figure much need alcohol jay try figure much safely spend weed',\n",
       " 'lt gt ish minutes 5 minutes ago wtf',\n",
       " 'thank call forget say happy onam sirji fine remember meet insurance person meet qatar insha allah rakhesh ex tata aig join tissco tayseer',\n",
       " 'congratulations ur award 500 cd vouchers 125gift guarantee free entry 2 100 wkly draw txt music 87066 tncs www ldew com1win150ppmx3age16',\n",
       " 'ur cash balance currently 500 pound maximize ur cash send cash 86688 150p msg cc 08708800282 hg suite342 2lands row w1j6hl',\n",
       " 'actor work work even sleep late since unemployed moment always sleep late unemployed every day saturday',\n",
       " 'hello get st andrews boy long way cold keep post',\n",
       " 'ha ha cool cool chikku chikku db',\n",
       " 'oh ok prob',\n",
       " 'check audrey status right',\n",
       " 'busy try finish new year look forward finally meet',\n",
       " 'good afternoon sunshine dawn day refresh happy alive breathe air smile think love always',\n",
       " 'well know z take care worry',\n",
       " 'update xmas offer latest motorola sonyericsson nokia free bluetooth double mins 1000 txt orange call mobileupd8 08000839402 call2optout f4q',\n",
       " 'discount code rp176781 stop message reply stop www regalportfolio co uk customer service 08717205546',\n",
       " 'wat uniform get',\n",
       " 'cool text ready',\n",
       " 'hello boytoy geeee miss already wake wish bed cuddle love',\n",
       " 'spoil bed well',\n",
       " 'go bath msg next lt gt min',\n",
       " 'cant keep talk people sure pay agree price pls tell want really buy much pay',\n",
       " 'thank ringtone order reference t91 charge gbp 4 per week unsubscribe anytime call customer service 09057039994',\n",
       " 'say happen',\n",
       " 'could see recognise face',\n",
       " 'well lot things happen lindsay new years sigh bar ptbo blue heron something go',\n",
       " 'keep payasam rinu bring',\n",
       " 'teach ranjith sir call sms like becaus hes verify project prabu tell today pa dont mistake',\n",
       " 'guess worry must know way body repair quite sure worry take slow first test guide ovulation relax nothing say reason worry keep followin',\n",
       " 'yeah sure give couple minutes track wallet',\n",
       " 'hey leave big deal take care',\n",
       " 'hey late ah meet 945',\n",
       " 'double mins txts 4 6months free bluetooth orange available sony nokia motorola phone call mobileupd8 08000839402 call2optout n9dx',\n",
       " 'take mr owl 3 lick',\n",
       " 'customer place call',\n",
       " 'mm time dont like fun',\n",
       " '4mths half price orange line rental latest camera phone 4 free phone 11mths call mobilesdirect free 08000938767 update or2stoptxt',\n",
       " 'yup lunch buffet u eat already',\n",
       " 'huh late fr dinner',\n",
       " 'hey sit go intro pilates kickboxing',\n",
       " 'morning ok',\n",
       " 'yes think office lap room think thats last days didnt shut',\n",
       " 'pick bout 7 30ish time go',\n",
       " 'performance award calculate every two month current one month period',\n",
       " 'actually sleep still might u call back text gr8 rock sis send u text wen wake',\n",
       " 'always put business put picture ass facebook one open people ever meet would think picture room would hurt make feel violate',\n",
       " 'good even sir al salam wahleykkum share happy news grace god get offer tayseer tissco join hope fine inshah allah meet sometime rakhesh visitor india',\n",
       " 'hmmm k want change field quickly da wanna get system administrator network administrator',\n",
       " 'free ringtone text first 87131 poly text get 87131 true tone help 0845 2814032 16 1st free tone 3x 150pw e nd txt stop',\n",
       " 'dear chechi talk',\n",
       " 'hair cream ship',\n",
       " 'none happen til get though',\n",
       " 'yep great loxahatchee xmas tree burn lt gt start hour',\n",
       " 'haha get use drive usf man know lot stoners',\n",
       " 'well slightly disastrous class pm fav darlings hope day ok coffee wld good stay late tomorrow time place always',\n",
       " 'hello good week fancy drink something later',\n",
       " 'headin towards busetop',\n",
       " 'message text miss sender name miss number miss send date miss miss u lot thats everything miss send via fullonsms com',\n",
       " 'come room point iron plan weekend',\n",
       " 'cos want thing',\n",
       " 'okies go yan jiu skip ard oso go cine den go mrt one blah blah blah',\n",
       " 'bring home wendy',\n",
       " '100 date service cal l 09064012103 box334sk38ch',\n",
       " 'whatsup dont u want sleep',\n",
       " 'alright new goal',\n",
       " 'free entry 250 weekly competition text word win 80086 18 c www txttowin co uk',\n",
       " 'alright head minutes text meet',\n",
       " 'send logo 2 ur lover 2 name join heart txt love name1 name2 mobno eg love adam eve 07123456789 87077 yahoo pobox36504w45wq txtno 4 ads 150p',\n",
       " 'yes last week take live call',\n",
       " 'someone contact date service enter phone fancy find call landline 09111032124 pobox12n146tf150p',\n",
       " 'siva hostel aha',\n",
       " 'urgent mobile number award 2000 prize guarantee call 09058094455 land line claim 3030 valid 12hrs',\n",
       " 'send ur friends receive something ur voice speak expression 1 childish 2 naughty 3 sentiment 4 rowdy 5 ful attitude 6 romantic 7 shy 8 attractive 9 funny lt gt irritate lt gt lovable reply',\n",
       " 'ok ok guess',\n",
       " 'aathi dear',\n",
       " 'pain urination thing else',\n",
       " '7 esplanade mind give lift cos get car today',\n",
       " 'wnt buy bmw car urgently vry urgent hv shortage lt gt lacs source arng dis amt lt gt lacs thats prob',\n",
       " 'home watch tv lor',\n",
       " 'usually take fifteen fuck minutes respond yes question',\n",
       " 'congrats nokia 3650 video camera phone call 09066382422 call cost 150ppm ave call 3mins vary mobiles 16 close 300603 post bcm4284 ldn wc1n3xx',\n",
       " 'book ticket pongal',\n",
       " 'available like right around hillsborough amp lt gt th',\n",
       " 'message send askin lt gt dollars shoul pay lt gt lt gt',\n",
       " 'ask g iouri tell story like ten time already',\n",
       " 'long applebees fuck take',\n",
       " 'hi hope u get txt journey hasnt gd 50 mins late think',\n",
       " 'like love arrange',\n",
       " 'yes really great bhaji tell kallis best cricketer sachin world tough get',\n",
       " 'suppose wake gt',\n",
       " 'oic saw tot din c find group liao',\n",
       " 'sorry call later',\n",
       " 'hey hey werethe monkeespeople say monkeyaround howdy gorgeous',\n",
       " 'sorry battery die come get gram place',\n",
       " 'well blimey exercise yeah kinda remember wot hmm',\n",
       " 'wont get concentration dear know mind everything',\n",
       " 'lol make plan new years',\n",
       " '10 min later k',\n",
       " 'hanks lotsly',\n",
       " 'thank hope good day today',\n",
       " 'k k detail want transfer acc enough',\n",
       " 'ok tell stay yeah tough optimistic things improve month',\n",
       " 'loan purpose 500 75 000 homeowners tenant welcome previously refuse still help call free 0800 1956669 text back help',\n",
       " 'si si think ill go make oreo truffles',\n",
       " 'look amy ure beautiful intelligent woman like u lot know u like like worry',\n",
       " 'hope result consistently intelligent kind start ask practicum link keep ears open best ttyl',\n",
       " '1 20 call cost guess isnt bad miss ya need ya want ya love ya',\n",
       " 'go thru different feel waver decisions cop individual time heal everything believe',\n",
       " 'u go phone gonna die stay',\n",
       " 'great never better day give even reason thank god',\n",
       " 'upgrdcentre orange customer may claim free camera phone upgrade loyalty call 0207 153 9153 offer end 26th july c apply opt available',\n",
       " 'sorry call later ok bye',\n",
       " 'ok way railway',\n",
       " 'great princess love give receive oral doggy style fave position enjoy make love lt gt time per night',\n",
       " 'put stuff roads keep get slippery',\n",
       " 'go ride bike',\n",
       " 'yup need jus wait 4 e rain 2 stop',\n",
       " 'many company tell language',\n",
       " 'okmail dear dave final notice collect 4 tenerife holiday 5000 cash award call 09061743806 landline tcs sae box326 cw25wx 150ppm',\n",
       " 'long since scream princess',\n",
       " 'nothing mean money enter account bank remove flat rate someone transfer lt gt account lt gt dollars get remove bank differ charge also differ sure trust 9ja person send account detail cos',\n",
       " 'want 2 get lay tonight want real dog locations send direct 2 ur mob join uk largest dog network txting moan 69888nyt ec2a 31p msg',\n",
       " 'nice line say break heart plz cum 1 time infront wise trust u good 9t',\n",
       " 'ok gonna head usf like fifteen minutes',\n",
       " 'love aathi love u lot',\n",
       " 'tension ah machi problem',\n",
       " 'k pick another 8th',\n",
       " 'guy get back g say think stay mcr',\n",
       " 'almost see u sec',\n",
       " 'yo carlos friends already ask work weekend',\n",
       " 'watch tv lor',\n",
       " 'thank baby cant wait taste real thing',\n",
       " 'change fb jaykwon thuglyfe falconerf',\n",
       " 'win really 1 side long time',\n",
       " 'free message activate 500 free text message reply message word free term condition visit www 07781482378 com',\n",
       " 'dear reach railway happen',\n",
       " 'depend quality want type send boye fade glory 6 want ralphs maybe 2',\n",
       " 'think fix send test message',\n",
       " 'sorry man account dry would want could trade back half could buy shit credit card',\n",
       " 'congrats 1 year special cinema pass 2 call 09061209465 c suprman v matrix3 starwars3 etc 4 free bx420 ip4 5we 150pm dont miss',\n",
       " 'sorry meet call later',\n",
       " 'class lt gt reunion',\n",
       " 'free call',\n",
       " 'get meh',\n",
       " 'nope think go monday sorry reply late',\n",
       " 'tell accenture confirm true',\n",
       " 'kate jackson rec center 7ish right',\n",
       " 'dear reache room',\n",
       " 'fight world easy u either win lose bt fightng some1 close u dificult u lose u lose u win u still lose',\n",
       " 'come',\n",
       " 'check nuerologist',\n",
       " 'lolnice go fish water',\n",
       " '123 congratulations week competition draw u win 1450 prize claim call 09050002311 b4280703 cs stop sms 08718727868 18 150ppm',\n",
       " 'wait e car dat bore wat cos wait outside get nothing 2 home stuff watch tv wat',\n",
       " 'maybe westshore hyde park village place near house',\n",
       " 'know anthony bring money school fee pay rent stuff like thats need help friend need',\n",
       " 'significance',\n",
       " 'opinion 1 2 jada 3 kusruthi 4 lovable 5 silent 6 spl character 7 mature 8 stylish 9 simple pls reply',\n",
       " '8 latest g still scrounge ammo want give new ak try',\n",
       " 'prabha soryda realy frm heart sory',\n",
       " 'lol ok forgive',\n",
       " 'jst change tat',\n",
       " 'guarantee latest nokia phone 40gb ipod mp3 player 500 prize txt word collect 83355 ibhltd ldnw15h 150p mtmsgrcvd18',\n",
       " 'competition',\n",
       " 'boltblue tone 150p reply poly mono eg poly3 1 cha cha slide 2 yeah 3 slow jamz 6 toxic 8 come stop 4 tone txt',\n",
       " 'credit top renewal pin tgxxrz',\n",
       " 'way transport less problematic sit night way u want ask n join bday feel free need know definite nos book fri',\n",
       " 'usually person unconscious children adults may behave abnormally call',\n",
       " 'ebay might less elsewhere',\n",
       " 'shall come get pickle',\n",
       " 'gonna go get tacos',\n",
       " 'rude campus',\n",
       " 'urgent mobile award 2 000 bonus caller prize 02 09 03 2nd attempt contact call 0871 872 9755 box95qu',\n",
       " 'hi win b ard 4 christmas enjoy n merry x mas',\n",
       " 'today offer claim ur 150 worth discount vouchers text yes 85023 savamob member offer mobile cs 08717898035 3 00 sub 16 unsub reply x',\n",
       " 'yes pretty lady like single',\n",
       " 'recieve tone within next 24hrs term condition please see channel u teletext pg 750',\n",
       " 'jay say double faggot',\n",
       " 'private 2003 account statement 07815296484 show 800 un redeem point call 08718738001 identifier code 41782 expire 18 11 04',\n",
       " 'today sunday sunday holiday work',\n",
       " 'gudnite tc practice go',\n",
       " 'late',\n",
       " 'call hop l8r malaria know miss guy miss bani big pls give love especially great day',\n",
       " 'good afternoon love go day hope maybe get lead job think boytoy send passionate kiss across sea',\n",
       " 'probably gonna see later tonight lt',\n",
       " 'maybe fat finger press button know',\n",
       " 'ummmmmaah many many happy return day dear sweet heart happy birthday dear',\n",
       " 'tirupur da start office call',\n",
       " 'www applausestore com monthlysubscription max6 month csc web age16 2stop txt stop',\n",
       " 'famous quote develop ability listen anything unconditionally without lose temper self confidence mean marry',\n",
       " 'go college pa else ill come self pa',\n",
       " '4 oclock mine bash flat plan',\n",
       " 'girl stay bed girl need recovery time id rather pass fun cooped bed',\n",
       " 'special',\n",
       " 'know need get hotel get invitation apologise cali sweet come english bloke weddin',\n",
       " 'sorry take long omw',\n",
       " 'wait lt gt min',\n",
       " 'ok give 5 minutes think see btw alibi cut hair whole time',\n",
       " 'imagine finally get sink bath put pace maybe even eat leave also imagine feel cage cock surround bath water remind always enjoy cuck',\n",
       " 'hurry weed deficient like three days',\n",
       " 'sure get acknowledgement astoundingly tactless generally faggy demand blood oath fo',\n",
       " 'ok every night take warm bath drink cup milk see work magic still need loose weight know',\n",
       " 'look fry pan case cheap book perhaps silly fry pan likely book',\n",
       " 'well uv cause mutations sunscreen like essential thesedays',\n",
       " 'lunch online',\n",
       " 'know friend already tell',\n",
       " 'hi princess thank pics pretty',\n",
       " 'aiyo u always c ex one dunno abt mei reply first time u reply fast lucky workin huh get bao ur sugardad ah gee',\n",
       " 'hi msg office',\n",
       " 'thanx 4 e brownie v nice',\n",
       " 'geeeee love much barely stand',\n",
       " 'gent try contact last weekend draw show win 1000 prize guarantee call 09064012160 claim code k52 valid 12hrs 150ppm',\n",
       " 'fuck babe miss already know let send money towards net need want crave',\n",
       " 'ill call u 2mrw ninish address icky american freek wont stop callin 2 bad jen k eh',\n",
       " 'oooh bed ride ey think',\n",
       " 'anyways go gym whatever love smile hope ok good day babe miss much already',\n",
       " 'love daddy make scream pleasure go slap ass dick',\n",
       " 'wot u wanna missy',\n",
       " 'yar lor wait 4 mum 2 finish sch lunch lor whole morning stay home clean room room quite clean hee',\n",
       " 'know lab goggle go',\n",
       " 'open door',\n",
       " 'wait call',\n",
       " 'nope wait sch 4 daddy',\n",
       " 'win 1 000 cash 2 000 prize claim call09050000327',\n",
       " 'tire argue week week want',\n",
       " 'wait 4 sch finish ard 5',\n",
       " 'mobile number win 5000 claim call us back ring claim hot line 09050005321',\n",
       " 'arngd marriage u r walkin unfortuntly snake bite u bt love marriage dance frnt snake amp sayin bite bite',\n",
       " 'huh early dinner outside izzit',\n",
       " 'ok anyway need change say',\n",
       " 'try contact reply offer 750 mins 150 textand new video phone call 08002988890 reply free delivery tomorrow',\n",
       " 'ex wife able kid want kid one day',\n",
       " 'scotland hope show jjc tendencies take care live dream',\n",
       " 'tell u headache want use 1 hour sick time',\n",
       " 'dun thk quit yet hmmm go jazz yogasana oso go meet em lessons den',\n",
       " 'pete please ring meive hardly gotany credit',\n",
       " 'ya srsly better yi tho',\n",
       " 'meet call later',\n",
       " 'ur chance win 250 wkly shop spree txt shop 80878 c www txt 2 shop com custcare 08715705022 1x150p wk',\n",
       " 'specially select receive 2000 pound award call 08712402050 line close cost 10ppm 16 cs apply ag promo',\n",
       " 'private 2003 account statement 07753741225 show 800 un redeem point call 08715203677 identifier code 42478 expire 24 10 04',\n",
       " 'still grand prix',\n",
       " 'meet stranger choose friend long world stand friendship never end let friends forever gud nitz',\n",
       " 'great',\n",
       " 'gud mrng dear nice day',\n",
       " 'important customer service announcement call freephone 0800 542 0825',\n",
       " 'exhaust train morning much wine pie sleep well',\n",
       " 'go buy mum present ar',\n",
       " 'mind blastin tsunamis occur rajnikant stop swim indian ocean',\n",
       " 'u send home first ok lor ready yet',\n",
       " 'speak cash yet',\n",
       " 'happy come noon',\n",
       " 'meet lunch la',\n",
       " 'take care n get well soon',\n",
       " 'xclusive 2morow 28 5 soiree speciale zouk nichols paris free roses 2 ladies info 07946746291 07880867867',\n",
       " 'mean say cant wait see u get bore bridgwater banter',\n",
       " 'neva mind ok',\n",
       " 'fine imma get drink somethin want come find',\n",
       " '22 days kick euro2004 u keep date latest news result daily remove send get txt stop 83222',\n",
       " 'valentine game send dis msg ur friends 5 answer r someone really love u ques colour suit best rply',\n",
       " 'many dependents',\n",
       " 'thanx4 today cer nice 2 catch ave 2 find time often oh well take care c u soon c',\n",
       " 'call say choose future',\n",
       " 'happy valentines day know early hundreds handsomes beauties wish think finish aunties uncles 1st',\n",
       " 'like v shock leh cos tell shuhui like tell leona also like dat almost know liao get ask abt ur reaction lor',\n",
       " 'family happiness',\n",
       " 'come n pick come immediately aft ur lesson',\n",
       " 'let snow let snow kind weather bring ppl together friendships grow',\n",
       " 'dear get lt gt dollars hi hi',\n",
       " 'good word word may leave u dismay many time',\n",
       " 'make sure alex know birthday fifteen minutes far concern',\n",
       " 'sorry get things may pub later',\n",
       " 'nah straight bring bud drink something actually little useful straight cash',\n",
       " 'haha good hear officially pay market 8th',\n",
       " 'many lick take get center tootsie pop',\n",
       " 'yup thk r e teacher say make face look longer darren ask 2 cut short',\n",
       " 'new textbuddy chat 2 horny guy ur area 4 25p free 2 receive search postcode gaytextbuddy com txt one name 89693',\n",
       " 'todays vodafone number end 4882 select receive 350 award number match call 09064019014 receive 350 award',\n",
       " 'please dont say like hi hi hi',\n",
       " 'thank u',\n",
       " 'oh forward message think send',\n",
       " 'get seventeen pound seven hundred ml hope ok',\n",
       " 'dear voucher holder 2 claim weeks offer pc go ts cs apply 2 stop texts txt stop 80062',\n",
       " 'n funny',\n",
       " 'sweetheart hope kind day one load reason smile biola',\n",
       " 'login dat time dad fetch home',\n",
       " 'shower baby',\n",
       " 'askd u question hours answer',\n",
       " 'well imma definitely need restock thanksgiving let know',\n",
       " 'say kiss kiss sound effect gorgeous man kind person need smile brighten day',\n",
       " 'probably gonna swing wee bite',\n",
       " 'ya nice ready thursday',\n",
       " 'allo brave bus take train triumph mean b ham jolly good rest week',\n",
       " 'watch cartoon listen music amp eve go temple amp church u',\n",
       " 'mind ask happen dont say uncomfortable',\n",
       " 'private 2003 account statement show 800 un redeem point call 08715203694 identifier code 40533 expire 31 10 04',\n",
       " 'prob send email',\n",
       " 'win 1 000 cash 2 000 prize claim call09050000327 c rstm sw7 3ss 150ppm',\n",
       " 'thats cool sometimes slow gentle sonetimes rough hard',\n",
       " 'gonna say sorry would normal start panic time sorry see tuesday',\n",
       " 'wait know wesleys town bet hella drug',\n",
       " 'fine miss much',\n",
       " 'u get persons story',\n",
       " 'tell drug dealer get impatient',\n",
       " 'sun cant come earth send luv ray cloud cant come river send luv rain cant come meet u send care msg u gud evng',\n",
       " 'place man',\n",
       " 'doesnt make sense take unless free need know wikipedia com',\n",
       " '88800 89034 premium phone service call 08718711108',\n",
       " 'sea lay rock rock envelope envelope paper paper 3 word',\n",
       " 'mum repent',\n",
       " 'sorry go home first daddy come fetch later',\n",
       " 'leave de start prepare next',\n",
       " 'yes baby study position kama sutra',\n",
       " 'en chikku nange bakra msg kalstiya tea coffee',\n",
       " 'carlos minute still need buy',\n",
       " 'pay lt decimal gt lakhs',\n",
       " 'good even ttyl',\n",
       " 'u receive msg',\n",
       " 'ho ho big belly laugh see ya tomo',\n",
       " 'sms ac sun0819 post hello seem cool',\n",
       " 'get ur 1st ringtone free reply msg tone gr8 top 20 tone phone every week 1 50 per wk 2 opt send stop 08452810071 16',\n",
       " 'ditto win worry say anything anymore like say last night whatever want peace',\n",
       " 'get lt gt way could pick',\n",
       " 'dont knw pa drink milk',\n",
       " 'maybe say hi find get card great escape wetherspoons',\n",
       " 'piggy r u awake bet u still sleep go 4 lunch',\n",
       " 'cause freaky lol',\n",
       " 'miss call cause yell scrappy miss u wait u come home lonely today',\n",
       " 'hex place talk explain',\n",
       " 'log 4 wat sdryb8i',\n",
       " 'xy go 4 e lunch',\n",
       " 'hi sue 20 years old work lapdancer love sex text live bedroom text sue 89555 textoperator g2 1da 150ppmsg 18',\n",
       " 'want ask wait 4 finish lect cos lect finish hour anyway',\n",
       " 'finish work yet',\n",
       " 'every king cry baby every great build map imprtant u r today u wil reach tomorw gud ni8',\n",
       " 'dear cherthala case u r come cochin pls call bfore u start shall also reach accordingly tell day u r come tmorow engage ans holiday',\n",
       " 'thank love torch bold',\n",
       " 'forward 448712404000 please call 08712404000 immediately urgent message wait',\n",
       " 'farm open',\n",
       " 'sorry trouble u buy 4d dad 1405 1680 1843 2 big 1 small sit n sun thanx',\n",
       " 'sister law hope great month say hey abiola',\n",
       " 'purchase stuff today mail po box number',\n",
       " 'ah poop look like ill prob send laptop get fix cuz gpu problem',\n",
       " 'good good job like entrepreneurs',\n",
       " 'aight close still around alex place',\n",
       " 'meet corporation st outside gap see mind work',\n",
       " 'mum ask buy food home',\n",
       " 'k u also dont msg reply msg',\n",
       " 'much r pay',\n",
       " 'sorry call later',\n",
       " 'important prevent dehydration give enough fluids',\n",
       " 'thats bite weird even suppose happen good idea sure pub',\n",
       " 'true dear sit pray even felt sms time',\n",
       " 'think get away trek long family town sorry',\n",
       " 'wanna gym harri',\n",
       " 'quite late lar ard 12 anyway wun b drivin',\n",
       " 'review keep fantastic nokia n gage game deck club nokia go 2 www cnupdates com newsletter unsubscribe alert reply word',\n",
       " '4mths half price orange line rental latest camera phone 4 free phone 11mths call mobilesdirect free 08000938767 update or2stoptxt cs',\n",
       " 'height confidence aeronautics professors wer calld amp wer askd 2 sit aeroplane aftr sit wer tell dat plane ws make students dey hurry plane bt 1 didnt move say make students',\n",
       " 'seem like weird time night g want come smoke day shitstorm attribute always come make everyone smoke',\n",
       " '08714712388 10am 7pm cost 10p',\n",
       " 'save stress person dorm account send account detail money send',\n",
       " 'also know lunch menu da know',\n",
       " 'stuff sell tell',\n",
       " '449071512431 urgent 2nd attempt contact u u win 1250 call 09071512433 b4 050703 csbcm4235wc1n3xx callcost 150ppm mobilesvary max 7 50',\n",
       " 'book lesson msg call work sth go get specs membership px3748',\n",
       " 'win guarantee 1000 cash 2000 prize claim yr prize call customer service representative 08714712394 10am 7pm',\n",
       " 'macha dont feel upset assume mindset believe one even wonderful plan us let life begin call anytime',\n",
       " 'oh send address',\n",
       " 'fine anytime best',\n",
       " 'wondar full flim',\n",
       " 'ya even cookies jelly',\n",
       " 'world run still maybe feel admit mad correction let call life keep run world may u r also run let run',\n",
       " 'get look scrumptious daddy want eat night long',\n",
       " 'cos lar ba dao ok 1 pm lor u never ask go ah say u would ask fri say u ask today',\n",
       " 'alright omw gotta change order half8th',\n",
       " 'exactly anyways far jide study visit',\n",
       " 'dunno u ask',\n",
       " 'email alertfrom jeri stewartsize 2kbsubject low cost prescripiton drvgsto listen email call 123',\n",
       " 'spring come early yay',\n",
       " 'lol win feel bad use money take steak dinner',\n",
       " 'even u dont get trouble convince tel twice tel neglect msgs dont c read dont reply',\n",
       " 'leave qatar tonite search opportunity go fast pls add ur prayers dear rakhesh',\n",
       " 'one talk',\n",
       " 'thank look really appreciate',\n",
       " 'hi customer loyalty offer new nokia6650 mobile 10 txtauction txt word start 81151 get 4t ctxt tc 150p mtmsg',\n",
       " 'wish',\n",
       " 'haha mayb u rite u know well da feel like someone gd lor u faster go find one gals group attach liao',\n",
       " 'yes glad make',\n",
       " 'well little time thing good time ahead',\n",
       " 'get room soon put clock back til 8 shout everyone get realise 7 wahay another hour bed',\n",
       " 'ok may free gym',\n",
       " 'men like shorter ladies gaze eye',\n",
       " 'dunno jus say go lido time 930',\n",
       " 'promise take good care princess run please send pics get chance ttyl',\n",
       " 'u subscribe best mobile content service uk 3 per 10 days send stop 82324 helpline 08706091795',\n",
       " 'reason speak year anyways great week best exam',\n",
       " 'monday next week give full gist',\n",
       " 'realize 40 years thousands old ladies run around tattoo',\n",
       " 'important customer service announcement premier',\n",
       " 'dont gimme lip caveboy',\n",
       " 'get library',\n",
       " 'realy sorry recognise number confuse r u please',\n",
       " 'didnt holla',\n",
       " 'cant think anyone spare room top head',\n",
       " 'faith make things possible hope make things work love make things beautiful may three christmas merry christmas',\n",
       " 'u make appointment',\n",
       " 'call carlos phone vibrate act might hear texts',\n",
       " 'romantic paris 2 nights 2 flight 79 book 4 next year call 08704439680ts cs apply',\n",
       " 'grandmas oh dear u still ill felt shit morning think hungover another night leave sit',\n",
       " 'urgent ur 500 guarantee award still unclaimed call 09066368327 closingdate04 09 02 claimcode m39m51 1 50pmmorefrommobile2bremoved mobypobox734ls27yf',\n",
       " 'nothing jus tot u would ask cos u ba gua go mt faber yest yest jus go already mah today go jus call lor',\n",
       " 'wish family merry x mas happy new year advance',\n",
       " 'ur award city break could win 200 summer shop spree every wk txt store 88039 skilgme tscs087147403231winawk age16 1 50perwksub',\n",
       " 'nt goin get somethin unless meetin 4 dinner lor haha wonder go tis time',\n",
       " 'sorry call later',\n",
       " 'cant pick phone right pls send message',\n",
       " 'lol know dramatic school already close tomorrow apparently drive inch snow suppose get',\n",
       " 'get anywhere damn job hunt',\n",
       " 'lol u drunkard hair moment yeah still 4 tonight wats plan',\n",
       " 'idc get weaseling way shit twice row',\n",
       " 'wil lt gt minutes get space',\n",
       " 'sleep surf',\n",
       " 'thank pick trash',\n",
       " 'go tell friend sure want live smoke much spend hours beg come smoke',\n",
       " 'hi kate lovely see tonight ill phone tomorrow get sing guy give card xxx',\n",
       " 'happy new year dear brother really miss get number decide send text wish happiness abiola',\n",
       " 'mean get door',\n",
       " 'opinion 1 2 jada 3 kusruthi 4 lovable 5 silent 6 spl character 7 mature 8 stylish 9 simple pls reply',\n",
       " 'hmmm think say 2 hours slave 3 late punish',\n",
       " 'beerage',\n",
       " 'important customer service announcement premier call freephone 0800 542 0578',\n",
       " 'dont think turn like randomlly within 5min open',\n",
       " 'suppose make still town though',\n",
       " 'time fix spell sometimes get completely diff word go figure',\n",
       " 'ever think live good life perfect partner txt back name age join mobile community 100p sms',\n",
       " '5 free top polyphonic tone call 087018728737 national rate get toppoly tune send every week text subpoly 81618 3 per pole unsub 08718727870',\n",
       " 'gud mrng dear hav nice day',\n",
       " 'hop enjoy game yesterday sorry touch pls know fondly bein thot great week abiola',\n",
       " 'e best 4 ur drive tmr',\n",
       " 'u dogbreath sound like jan c al',\n",
       " 'omg want scream weigh lose weight woohoo',\n",
       " 'generally one uncountable noun u dictionary piece research',\n",
       " 'really get hang around',\n",
       " 'orange customer may claim free camera phone upgrade loyalty call 0207 153 9996 offer end 14thmarch c apply opt availa',\n",
       " 'petey boy whereare friendsare thekingshead come canlove nic',\n",
       " 'ok msg u b4 leave house',\n",
       " 'gimme lt gt minutes ago',\n",
       " 'last chance claim ur 150 worth discount vouchers today text shop 85023 savamob offer mobile cs savamob pobox84 m263uz 3 00 sub 16',\n",
       " 'appt lt time gt fault u listen tell u twice',\n",
       " 'free 1st week no1 nokia tone 4 ur mobile every week txt nokia 8077 get txting tell ur mat www getzed co uk pobox 36504 w45wq 16 norm150p tone',\n",
       " 'win guarantee 200 award even 1000 cashto claim ur award call free 08000407165 18 2 stop getstop 88222 php rg21 4jx',\n",
       " 'k 4',\n",
       " 'dled 3d imp',\n",
       " 'sure make sure know smokin yet',\n",
       " 'boooo always work quit',\n",
       " 'take half day leave bec well',\n",
       " 'ugh wanna get bed warm',\n",
       " 'nervous lt gt',\n",
       " 'ring come guy costume gift future yowifes hint hint',\n",
       " 'congratulations ur award either 500 cd gift vouchers free entry 2 100 weekly draw txt music 87066 tncs www ldew com1win150ppmx3age16',\n",
       " 'borrow ur bag ok',\n",
       " 'u outbid simonwatson5120 shinco dvd plyr 2 bid visit sms ac smsrewards 2 end bid notifications reply end',\n",
       " 'boytoy miss happen',\n",
       " 'lot use ones babe model help youi bring match',\n",
       " 'also bring galileo dobby',\n",
       " 'respond',\n",
       " 'boo babe u enjoyin yourjob u seem 2 b gettin well hunny hope ure ok take care llspeak 2u soonlots loveme xxxx',\n",
       " 'good afternoon starshine boytoy crave yet ache fuck sip cappuccino miss babe tease kiss',\n",
       " 'road cant txt',\n",
       " 'smsservices yourinclusive text credit pls goto www comuk net login 3qxj9 unsubscribe stop extra charge help 08702840625 comuk 220 cm2 9ae',\n",
       " '25p 4 alfie moon children need song ur mob tell ur m8s txt tone charity 8007 nokias poly charity polys zed 08701417012 profit 2 charity',\n",
       " 'good even ttyl',\n",
       " 'hmm bits piece lol sigh',\n",
       " 'hahaha use brain dear',\n",
       " 'hey get mail',\n",
       " 'sorry light turn green mean another friend want lt gt worth may around',\n",
       " 'thank yesterday sir wonderful hope enjoy burial mojibiola',\n",
       " 'u secret admirer reveal think u r special call 09065174042 opt reply reveal stop 1 50 per msg recd cust care 07821230901',\n",
       " 'hi mate rv u hav nice hol message 3 say hello coz send u 1 age start drive stay roads rvx',\n",
       " 'dear voucher holder claim weeks offer pc please go ts cs apply stop texts txt stop 80062',\n",
       " 'thank much skyped wit kz sura didnt get pleasure company hope good give ultimatum oh countin aburo enjoy message send days ago',\n",
       " 'surely result offer',\n",
       " 'good morning dear great amp successful day',\n",
       " 'want 750 anytime network mins 150 text new video phone five pound per week call 08002888812 reply delivery tomorrow',\n",
       " 'sir late pay rent past months pay lt gt charge felt would inconsiderate nag something give great cost didnt speak however recession wont able pay charge month hence askin well ahead month end please help thank',\n",
       " 'try contact offer new video phone 750 anytime network mins half price rental camcorder call 08000930705 reply delivery wed',\n",
       " 'last chance 2 claim ur 150 worth discount vouchers text yes 85023 savamob member offer mobile cs 08717898035 3 00 sub 16 remove txt x stop',\n",
       " 'luv u soo much u understand special u r 2 ring u 2morrow luv u xxx',\n",
       " 'pls send comprehensive mail pay much',\n",
       " 'prashanthettan mother pass away last night pray family',\n",
       " 'urgent call 09066350750 landline complimentary 4 ibiza holiday 10 000 cash await collection sae cs po box 434 sk3 8wp 150 ppm 18',\n",
       " 'k k go',\n",
       " 'meanwhile shit suite xavier decide give us lt gt second warn samantha come play jay guitar impress shit also think doug realize live anymore',\n",
       " 'stomach thru much trauma swear eat better lose weight',\n",
       " 'office whats matter msg call break',\n",
       " 'yeah barely enough room two us x many fuck shoe sorry man see later',\n",
       " 'today offer claim ur 150 worth discount vouchers text yes 85023 savamob member offer mobile cs 08717898035 3 00 sub 16 unsub reply x',\n",
       " 'u reach orchard already u wan 2 go buy ticket first',\n",
       " 'real baby want bring inner tigress',\n",
       " 'da run activate full version da',\n",
       " 'ah poor baby hope urfeeling bettersn luv probthat overdose work hey go careful spk 2 u sn lot lovejen xxx',\n",
       " 'stop story tell return say order',\n",
       " 'talk sexy make new friends fall love worlds discreet text date service text vip 83110 see could meet',\n",
       " 'go take babe',\n",
       " 'hai ana tomarrow come morning lt decimal gt ill sathy go rto office reply come home',\n",
       " 'spoon okay',\n",
       " 'say somebody name tampa',\n",
       " 'work go min',\n",
       " 'brother genius',\n",
       " 'sorry guess whenever get hold connections maybe hour two text',\n",
       " 'u find time bus coz need sort stuff',\n",
       " 'dude ive see lotta corvettes lately',\n",
       " 'congratulations ur award either yrs supply cds virgin record mystery gift guarantee call 09061104283 ts cs www smsco net 1 50pm approx 3mins',\n",
       " 'consider wall bunker shit important never play peaceful guess place high enough matter',\n",
       " 'private 2003 account statement 07808 xxxxxx show 800 un redeem point call 08719899217 identifier code 41685 expire 07 11 04',\n",
       " 'hello need posh bird chap user trial prod champneys put need address dob asap ta r',\n",
       " 'u want xmas 100 free text message new video phone half price line rental call free 0800 0721072 find',\n",
       " 'well officially philosophical hole u wanna call home ready save',\n",
       " 'go good problem still need little experience understand american customer voice',\n",
       " 'text drop x',\n",
       " 'ugh long day exhaust want cuddle take nap',\n",
       " 'talk atleast day otherwise miss best friend world shakespeare shesil lt gt',\n",
       " 'shop till u drop either 10k 5k 500 cash 100 travel voucher call 09064011000 ntt po box cr01327bt fixedline cost 150ppm mobile vary',\n",
       " 'castor need see something',\n",
       " 'sunshine quiz wkly q win top sony dvd player u know country liverpool play mid week txt ansr 82277 1 50 sp tyrone',\n",
       " 'u secret admirer look 2 make contact u find r reveal think ur special call 09058094565',\n",
       " 'u secret admirer look 2 make contact u find r reveal think ur special call 09065171142 stopsms 08',\n",
       " 'reminder download content already pay goto mymoby tv collect content',\n",
       " 'see know give break time woul lead always want miss curfew gonna gibe til one midnight movie gonna get til 2 need come home need getsleep anything need b studdying ear train',\n",
       " 'love give massage use lot baby oil fave position',\n",
       " 'dude go sup',\n",
       " 'yoyyooo u know change permissions drive mac usb flash drive',\n",
       " 'gibbs unsold mike hussey',\n",
       " 'like talk pa able dont know',\n",
       " 'dun cut short leh u dun like ah fail quite sad',\n",
       " 'unbelievable faglord',\n",
       " 'wife know time murder exactly',\n",
       " 'ask princess',\n",
       " 'great princess think',\n",
       " 'nutter cutter ctter cttergg cttargg ctargg ctagg ie',\n",
       " 'ok noe u busy really bore msg u oso dunno wat colour choose 4 one',\n",
       " 'g class early tomorrow thus try smoke lt gt',\n",
       " 'superb think grateful u dont everything u want mean u still opportunity happier tomorrow u today',\n",
       " 'hope good week check',\n",
       " 'use hope agents drop since book things year whole boston nyc experiment',\n",
       " 'thursday night yeah sure thing work',\n",
       " 'free ringtone wait collect simply text password mix 85069 verify get usher britney fml',\n",
       " 'probably money worry things come due several outstanding invoice work two three months ago',\n",
       " 'possible teach',\n",
       " 'wonder phone battery go dead tell love babe',\n",
       " 'lovely smell bus tobacco',\n",
       " 'get worry derek taylor already assume worst',\n",
       " 'hey charles sorry late reply',\n",
       " 'lastest stereophonics marley dizzee racal libertines stroke win nookii game flirt click themob wap bookmark text wap 82468',\n",
       " 'give plus say grinule greet whenever speak',\n",
       " 'white fudge oreos store',\n",
       " 'january male sale hot gay chat cheaper call 08709222922 national rate 1 5p min cheap 7 8p min peak stop texts call 08712460324 10p min',\n",
       " 'love come take long leave zaher get word ym happy see sad leave miss',\n",
       " 'sorry hurt',\n",
       " 'feel nauseous piss eat sweets week cause today plan pig diet week hungry',\n",
       " 'ok lor early still project meet',\n",
       " 'call da wait call',\n",
       " 'could ask carlos could get anybody else chip',\n",
       " 'actually send reminder today wonderful weekend',\n",
       " 'people see msgs think iam addict msging wrong bcoz know iam addict sweet friends bslvyl',\n",
       " 'hey give photo register drive ah tmr wanna meet yck',\n",
       " 'dont talk ever ok word',\n",
       " 'u wana see',\n",
       " 'way school pls send ashley number',\n",
       " 'shall fine avalarr hollalater',\n",
       " 'go attend another two round today still reach home',\n",
       " 'actually delete old website blogging magicalsongs blogspot com',\n",
       " 'k wait chikku il send aftr lt gt mins',\n",
       " 'diet eat 1 many slice pizza yesterday ugh always diet',\n",
       " 'k give kvb acc detail',\n",
       " 'oh come ah',\n",
       " 'money r lucky winner 2 claim prize text money 2 88600 1million give away ppt150x3 normal text rate box403 w1t1jy',\n",
       " 'really sorry win b able 2 friday hope u find alternative hope yr term go ok',\n",
       " 'congratulations ore mo owo wa enjoy wish many happy moments fro wherever go',\n",
       " 'samus shoulder yet',\n",
       " 'time think need know near campus',\n",
       " 'dear matthew please call 09063440451 landline complimentary 4 lux tenerife holiday 1000 cash await collection ppm150 sae cs box334 sk38xh',\n",
       " 'dun wear jeans lor',\n",
       " 'since side fever vomitin',\n",
       " 'k k college',\n",
       " 'urgent call 09061749602 landline complimentary 4 tenerife holiday 10 000 cash await collection sae cs box 528 hp20 1yf 150ppm 18',\n",
       " 'better make friday stuff like pig yesterday feel bleh least writhe pain kind bleh',\n",
       " 'sell tons coin sell coin someone thru paypal voila money back life pocket',\n",
       " 'theyre lot place hospitals medical place safe',\n",
       " 'get touch folks wait company txt back name age opt enjoy community 150p sms',\n",
       " 'also sorta blow couple time recently id rather text blue look weed',\n",
       " 'send score sophas secondary application school think think apply research cost also contact joke ogunrinde school one less expensive ones',\n",
       " 'cant wait see photos useful',\n",
       " 'ur cash balance currently 500 pound maximize ur cash send go 86688 150p msg cc 08718720201 po box 114 14 tcr w1',\n",
       " 'hey book kb sit already lessons go ah keep sit night free need meet confirm lodge',\n",
       " 'chk ur belovd ms dict',\n",
       " 'time want come',\n",
       " 'awesome lemme know whenever around',\n",
       " 'shb b ok lor thanx',\n",
       " 'beautiful truth gravity read carefully heart feel light someone feel heavy someone leave good night',\n",
       " 'also remember get dobby bowl car',\n",
       " 'filthy stories girls wait',\n",
       " 'sorry c ur msg yar lor poor thing 4 one night tmr u brand new room 2 sleep',\n",
       " 'love decision feel could decide love life would much simpler less magical',\n",
       " 'welp apparently retire',\n",
       " 'sort code acc bank natwest reply confirm send right person',\n",
       " '',\n",
       " 'u sure u take sick time',\n",
       " 'urgent try contact u todays draw show win 800 prize guarantee call 09050001808 land line claim m95 valid12hrs',\n",
       " 'watch cartoon listen music amp eve go temple amp church u',\n",
       " 'yo chad gymnastics class wanna take site say christians class full',\n",
       " 'much buzy',\n",
       " 'better still catch let ask sell lt gt',\n",
       " 'sure night menu know noon menu',\n",
       " 'u want come back beautiful necklace token heart thats give wife like see one give dont call wait till come',\n",
       " 'go aptitude class',\n",
       " 'wont b 2 15 try 2 sort house ok',\n",
       " 'yar lor wan 2 go c horse race today mah eat earlier lor eat chicken rice u',\n",
       " 'haha awesome omw back',\n",
       " 'yup thk e shop close lor',\n",
       " 'account number',\n",
       " 'eh u send wrongly lar',\n",
       " 'hey ad crap nite borin without ya 2 boggy u bore biatch thanx u wait til nxt time il ave ya',\n",
       " 'ok shall talk',\n",
       " 'dont hesitate know second time weakness like keep notebook eat day anything change day sure nothing',\n",
       " 'hey pay salary de lt gt',\n",
       " 'another month need chocolate weed alcohol',\n",
       " 'start search get job days great potential talent',\n",
       " 'reckon need town eightish walk carpark',\n",
       " 'congrats 2 mobile 3g videophones r call 09063458130 videochat wid mat play java game dload polyph music noline rentl',\n",
       " 'look fuckin time fuck think',\n",
       " 'yo guess drop',\n",
       " 'carlos say mu lt gt minutes',\n",
       " 'office call lt gt min',\n",
       " 'geeee miss already know think fuck wait till next year together love kiss',\n",
       " 'yun ah ubi one say wan call tomorrow call 67441233 look irene ere get bus8 22 65 61 66 382 ubi cres ubi tech park 6ph 1st 5wkg days n',\n",
       " 'ugh gotta drive back sd la butt sore',\n",
       " '26th july',\n",
       " 'hi im relax time ever get 7am every day party good night get home tomorrow 5ish',\n",
       " 'wan come come lor din c strip skirt',\n",
       " 'xmas story peace xmas msg love xmas miracle jesus hav bless month ahead amp wish u merry xmas',\n",
       " 'number',\n",
       " 'change e one next escalator',\n",
       " 'yetunde class run water make ok pls',\n",
       " 'lot happen feel quiet beth aunts charlie work lot helen mo',\n",
       " 'wait 4 bus stop aft ur lect lar dun c go get car come back n pick',\n",
       " 'aight thank comin',\n",
       " ...]"
      ]
     },
     "execution_count": 65,
     "metadata": {},
     "output_type": "execute_result"
    }
   ],
   "source": [
    "preprocessed_sentences =[]\n",
    "def preprocess(text, stem=False):\n",
    "    text = re.sub(text_cleaning_re, ' ', str(text).lower()).strip()\n",
    "    tokens = []\n",
    "    for token in text.split(): \n",
    "        token = lem.lemmatize(token,\"v\") #lemmatizing \n",
    "        if token not in stop_words: #remove stop_words\n",
    "            if stem:\n",
    "                tokens.append(stemmer.stem(token))\n",
    "            else:\n",
    "                tokens.append(token)\n",
    "    return \" \".join(tokens)\n",
    "\n",
    "for line in sentences:\n",
    "    preprocessed_line = preprocess(line)\n",
    "    preprocessed_sentences.append(preprocessed_line)\n",
    "list(np.array(preprocessed_sentences))"
   ]
  },
  {
   "cell_type": "code",
   "execution_count": 66,
   "id": "80330412",
   "metadata": {},
   "outputs": [],
   "source": [
    "data['Preprocessed_Massages'] = preprocessed_sentences"
   ]
  },
  {
   "cell_type": "code",
   "execution_count": 67,
   "id": "da2f9f8f",
   "metadata": {},
   "outputs": [
    {
     "data": {
      "text/html": [
       "<div>\n",
       "<style scoped>\n",
       "    .dataframe tbody tr th:only-of-type {\n",
       "        vertical-align: middle;\n",
       "    }\n",
       "\n",
       "    .dataframe tbody tr th {\n",
       "        vertical-align: top;\n",
       "    }\n",
       "\n",
       "    .dataframe thead th {\n",
       "        text-align: right;\n",
       "    }\n",
       "</style>\n",
       "<table border=\"1\" class=\"dataframe\">\n",
       "  <thead>\n",
       "    <tr style=\"text-align: right;\">\n",
       "      <th></th>\n",
       "      <th>Label</th>\n",
       "      <th>Massages</th>\n",
       "      <th>Preprocessed_Massages</th>\n",
       "    </tr>\n",
       "  </thead>\n",
       "  <tbody>\n",
       "    <tr>\n",
       "      <th>0</th>\n",
       "      <td>ham</td>\n",
       "      <td>Go until jurong point, crazy.. Available only ...</td>\n",
       "      <td>go jurong point crazy available bugis n great ...</td>\n",
       "    </tr>\n",
       "    <tr>\n",
       "      <th>1</th>\n",
       "      <td>ham</td>\n",
       "      <td>Ok lar... Joking wif u oni...</td>\n",
       "      <td>ok lar joke wif u oni</td>\n",
       "    </tr>\n",
       "    <tr>\n",
       "      <th>2</th>\n",
       "      <td>spam</td>\n",
       "      <td>Free entry in 2 a wkly comp to win FA Cup fina...</td>\n",
       "      <td>free entry 2 wkly comp win fa cup final tkts 2...</td>\n",
       "    </tr>\n",
       "  </tbody>\n",
       "</table>\n",
       "</div>"
      ],
      "text/plain": [
       "  Label                                           Massages  \\\n",
       "0   ham  Go until jurong point, crazy.. Available only ...   \n",
       "1   ham                      Ok lar... Joking wif u oni...   \n",
       "2  spam  Free entry in 2 a wkly comp to win FA Cup fina...   \n",
       "\n",
       "                               Preprocessed_Massages  \n",
       "0  go jurong point crazy available bugis n great ...  \n",
       "1                              ok lar joke wif u oni  \n",
       "2  free entry 2 wkly comp win fa cup final tkts 2...  "
      ]
     },
     "execution_count": 67,
     "metadata": {},
     "output_type": "execute_result"
    }
   ],
   "source": [
    "data.head(3)"
   ]
  },
  {
   "cell_type": "markdown",
   "id": "8a86d8d0",
   "metadata": {},
   "source": [
    "### Tokenization"
   ]
  },
  {
   "cell_type": "code",
   "execution_count": 68,
   "id": "8b7ec3e3",
   "metadata": {},
   "outputs": [
    {
     "name": "stdout",
     "output_type": "stream",
     "text": [
      "Vocabulary Size : 7525\n"
     ]
    }
   ],
   "source": [
    "from keras.preprocessing.text import Tokenizer\n",
    "\n",
    "tokenizer = Tokenizer()\n",
    "tokenizer.fit_on_texts(data['Preprocessed_Massages'])\n",
    "\n",
    "word_index = tokenizer.word_index\n",
    "vocab_size = len(tokenizer.word_index) + 1\n",
    "print(\"Vocabulary Size :\", vocab_size)"
   ]
  },
  {
   "cell_type": "code",
   "execution_count": 69,
   "id": "ede4217a",
   "metadata": {},
   "outputs": [
    {
     "data": {
      "text/plain": [
       "['u', 'get', 'call', 'go', '2', 'ur', 'come', '4', 'gt', 'lt']"
      ]
     },
     "execution_count": 69,
     "metadata": {},
     "output_type": "execute_result"
    }
   ],
   "source": [
    "list(word_index)[0:10]"
   ]
  },
  {
   "cell_type": "code",
   "execution_count": 108,
   "id": "8dfc3367",
   "metadata": {},
   "outputs": [
    {
     "data": {
      "image/png": "[encoded data removed]",
      "text/plain": [
       "<Figure size 800x550 with 1 Axes>"
      ]
     },
     "metadata": {},
     "output_type": "display_data"
    }
   ],
   "source": [
    "#SPAM\n",
    "spam_plot = data.loc[data['Label'] == 'spam', ['Preprocessed_Massages']]\n",
    "spam_plotlist = [x for x in spam_plot['Preprocessed_Massages'].str.split()]\n",
    "spam_plotlist = list(itertools.chain(*spam_plotlist))\n",
    "\n",
    "count = CountVectorizer()\n",
    "docs       = count.fit_transform(spam_plotlist)\n",
    "features   = count.get_feature_names_out()\n",
    "\n",
    "\n",
    "plt.suptitle('Frequency Distribution of Top 10 Words in spam massages')\n",
    "plt.yticks()\n",
    "plt.xticks()\n",
    "plt.gcf().subplots_adjust(left=0.15)\n",
    "\n",
    "visualizer = FreqDistVisualizer(features = features, n=10, orient='h',color = 'red')\n",
    "visualizer.fit(docs)\n",
    "visualizer.show()\n",
    "plt.show()"
   ]
  },
  {
   "cell_type": "code",
   "execution_count": 109,
   "id": "4f202609",
   "metadata": {},
   "outputs": [
    {
     "data": {
      "image/png": "[encoded data removed]",
      "text/plain": [
       "<Figure size 800x550 with 1 Axes>"
      ]
     },
     "metadata": {},
     "output_type": "display_data"
    }
   ],
   "source": [
    "#HAM\n",
    "ham_plot = data.loc[data['Label'] == 'ham', ['Preprocessed_Massages']]\n",
    "ham_plotlist = [x for x in ham_plot['Preprocessed_Massages'].str.split()]\n",
    "ham_plotlist = list(itertools.chain(*ham_plotlist))\n",
    "\n",
    "count = CountVectorizer()\n",
    "docs       = count.fit_transform(ham_plotlist)\n",
    "features   = count.get_feature_names_out()\n",
    "\n",
    "\n",
    "plt.suptitle('Frequency Distribution of Top 10 Words in ham massages')\n",
    "plt.yticks()\n",
    "plt.xticks()\n",
    "plt.gcf().subplots_adjust(left=0.15)\n",
    "\n",
    "visualizer = FreqDistVisualizer(features = features, n=10, orient='h')\n",
    "visualizer.fit(docs)\n",
    "visualizer.show()\n",
    "plt.show()"
   ]
  },
  {
   "cell_type": "markdown",
   "id": "54afa595",
   "metadata": {},
   "source": [
    "### TD-IDF vectorization"
   ]
  },
  {
   "cell_type": "code",
   "execution_count": 77,
   "id": "bd1c3b1f",
   "metadata": {},
   "outputs": [],
   "source": [
    "vectorizer = TfidfVectorizer(max_features=1000, ngram_range=(1, 2), stop_words='english')\n",
    "X = vectorizer.fit_transform(data['Preprocessed_Massages'])\n",
    "Y = data['Label']"
   ]
  },
  {
   "cell_type": "code",
   "execution_count": 78,
   "id": "432c400b",
   "metadata": {},
   "outputs": [
    {
     "name": "stdout",
     "output_type": "stream",
     "text": [
      "       00  000  000pes  008704050406  0089  0121  01223585236  01223585334  \\\n",
      "0     0.0  0.0     0.0           0.0   0.0   0.0          0.0          0.0   \n",
      "1     0.0  0.0     0.0           0.0   0.0   0.0          0.0          0.0   \n",
      "2     0.0  0.0     0.0           0.0   0.0   0.0          0.0          0.0   \n",
      "3     0.0  0.0     0.0           0.0   0.0   0.0          0.0          0.0   \n",
      "4     0.0  0.0     0.0           0.0   0.0   0.0          0.0          0.0   \n",
      "...   ...  ...     ...           ...   ...   ...          ...          ...   \n",
      "5567  0.0  0.0     0.0           0.0   0.0   0.0          0.0          0.0   \n",
      "5568  0.0  0.0     0.0           0.0   0.0   0.0          0.0          0.0   \n",
      "5569  0.0  0.0     0.0           0.0   0.0   0.0          0.0          0.0   \n",
      "5570  0.0  0.0     0.0           0.0   0.0   0.0          0.0          0.0   \n",
      "5571  0.0  0.0     0.0           0.0   0.0   0.0          0.0          0.0   \n",
      "\n",
      "      0125698789   02  ...  zebra  zed  zero  zhong  zindgi  zoe  zogtorius  \\\n",
      "0            0.0  0.0  ...    0.0  0.0   0.0    0.0     0.0  0.0        0.0   \n",
      "1            0.0  0.0  ...    0.0  0.0   0.0    0.0     0.0  0.0        0.0   \n",
      "2            0.0  0.0  ...    0.0  0.0   0.0    0.0     0.0  0.0        0.0   \n",
      "3            0.0  0.0  ...    0.0  0.0   0.0    0.0     0.0  0.0        0.0   \n",
      "4            0.0  0.0  ...    0.0  0.0   0.0    0.0     0.0  0.0        0.0   \n",
      "...          ...  ...  ...    ...  ...   ...    ...     ...  ...        ...   \n",
      "5567         0.0  0.0  ...    0.0  0.0   0.0    0.0     0.0  0.0        0.0   \n",
      "5568         0.0  0.0  ...    0.0  0.0   0.0    0.0     0.0  0.0        0.0   \n",
      "5569         0.0  0.0  ...    0.0  0.0   0.0    0.0     0.0  0.0        0.0   \n",
      "5570         0.0  0.0  ...    0.0  0.0   0.0    0.0     0.0  0.0        0.0   \n",
      "5571         0.0  0.0  ...    0.0  0.0   0.0    0.0     0.0  0.0        0.0   \n",
      "\n",
      "      zoom  zouk  zyada  \n",
      "0      0.0   0.0    0.0  \n",
      "1      0.0   0.0    0.0  \n",
      "2      0.0   0.0    0.0  \n",
      "3      0.0   0.0    0.0  \n",
      "4      0.0   0.0    0.0  \n",
      "...    ...   ...    ...  \n",
      "5567   0.0   0.0    0.0  \n",
      "5568   0.0   0.0    0.0  \n",
      "5569   0.0   0.0    0.0  \n",
      "5570   0.0   0.0    0.0  \n",
      "5571   0.0   0.0    0.0  \n",
      "\n",
      "[5572 rows x 7496 columns]\n"
     ]
    }
   ],
   "source": [
    "from sklearn.feature_extraction.text import TfidfVectorizer\n",
    "\n",
    "corpus = data['Preprocessed_Massages'] \n",
    "\n",
    "#create TfidVectorizer object\n",
    "tfidf = TfidfVectorizer()\n",
    "\n",
    "#compute a sparse matrix of word vectors for the corpus\n",
    "tfidf_matrix = tfidf.fit_transform(corpus)\n",
    "\n",
    "#display property of sparse matrix \n",
    "tfidf_matrix\n",
    "\n",
    "# convert this sparse matrix to a dense numpy array , so that we can create a data frame for display purposes only\n",
    "df = pd.DataFrame(tfidf_matrix.toarray(),columns = tfidf.get_feature_names_out())\n",
    "print(df)"
   ]
  },
  {
   "cell_type": "code",
   "execution_count": 79,
   "id": "b857776a",
   "metadata": {},
   "outputs": [
    {
     "name": "stdout",
     "output_type": "stream",
     "text": [
      "[[1.         0.         0.         ... 0.         0.         0.        ]\n",
      " [0.         1.         0.         ... 0.         0.         0.        ]\n",
      " [0.         0.         1.         ... 0.         0.02312794 0.        ]\n",
      " ...\n",
      " [0.         0.         0.         ... 1.         0.         0.        ]\n",
      " [0.         0.         0.02312794 ... 0.         1.         0.        ]\n",
      " [0.         0.         0.         ... 0.         0.         1.        ]]\n"
     ]
    }
   ],
   "source": [
    "from sklearn.metrics.pairwise import cosine_similarity\n",
    "#to see similerities \n",
    "corpus = data['Preprocessed_Massages'] \n",
    "\n",
    "#create TfidfVectorizer\n",
    "tfidf = TfidfVectorizer()\n",
    "\n",
    "#compute a sparse matrix of word vectors for the corpus \n",
    "tfidf_matrix = tfidf.fit_transform(corpus)\n",
    "\n",
    "#compute and print the cosine similarity matrix\n",
    "cosine_sim = cosine_similarity(tfidf_matrix,tfidf_matrix)\n",
    "print(cosine_sim)"
   ]
  },
  {
   "cell_type": "markdown",
   "id": "61362b52",
   "metadata": {},
   "source": [
    "### Train-Test Split"
   ]
  },
  {
   "cell_type": "code",
   "execution_count": 80,
   "id": "443376e7",
   "metadata": {},
   "outputs": [
    {
     "name": "stdout",
     "output_type": "stream",
     "text": [
      "Train Data size: 3900\n",
      "Test Data size 1672\n"
     ]
    }
   ],
   "source": [
    "train_data, test_data = train_test_split( data, test_size=0.3,\n",
    "                                         random_state=7) # Splits Dataset into Training and Testing set\n",
    "print(\"Train Data size:\", len(train_data))\n",
    "print(\"Test Data size\", len(test_data))"
   ]
  },
  {
   "cell_type": "code",
   "execution_count": 81,
   "id": "9470b79e",
   "metadata": {},
   "outputs": [
    {
     "name": "stdout",
     "output_type": "stream",
     "text": [
      "  (0, 940)\t0.34001721120245443\n",
      "  (0, 976)\t0.411632596595713\n",
      "  (0, 367)\t0.3361599574450456\n",
      "  (0, 93)\t0.455170952789604\n",
      "  (0, 217)\t0.47127532074856576\n",
      "  (0, 658)\t0.41552660601514085\n",
      "  (1, 958)\t0.5403695936884475\n",
      "  (1, 453)\t0.5749835180642761\n",
      "  (1, 469)\t0.5111949890878651\n",
      "  (1, 610)\t0.3406968436937271\n",
      "  (2, 328)\t0.2699264051977394\n",
      "  (2, 82)\t0.2412294698954004\n",
      "  (2, 688)\t0.2435677344623184\n",
      "  (2, 886)\t0.17937011255867316\n",
      "  (2, 805)\t0.2837677763844269\n",
      "  (2, 681)\t0.23796140740301355\n",
      "  (2, 696)\t0.23304910833856038\n",
      "  (2, 839)\t0.17749969519564326\n",
      "  (2, 315)\t0.26550640602353415\n",
      "  (2, 961)\t0.17961022829169798\n",
      "  (2, 192)\t0.2805869565898932\n",
      "  (2, 970)\t0.2749002674548477\n",
      "  (2, 288)\t0.5193610514754778\n",
      "  (2, 326)\t0.1664115508908383\n"
     ]
    }
   ],
   "source": [
    "print(X[0:3])"
   ]
  },
  {
   "cell_type": "code",
   "execution_count": 82,
   "id": "aa1dd69f",
   "metadata": {},
   "outputs": [
    {
     "name": "stdout",
     "output_type": "stream",
     "text": [
      "0     ham\n",
      "1     ham\n",
      "2    spam\n",
      "Name: Label, dtype: object\n"
     ]
    }
   ],
   "source": [
    "print(Y[0:3])"
   ]
  },
  {
   "cell_type": "code",
   "execution_count": 83,
   "id": "46a28d88",
   "metadata": {},
   "outputs": [
    {
     "name": "stdout",
     "output_type": "stream",
     "text": [
      "Shape of x_data  (5572, 1000)\n",
      "Shape of y_data  (5572,)\n"
     ]
    }
   ],
   "source": [
    "print(\"Shape of x_data \",X.shape)\n",
    "print(\"Shape of y_data \",Y.shape)"
   ]
  },
  {
   "cell_type": "code",
   "execution_count": 84,
   "id": "67d94429",
   "metadata": {},
   "outputs": [],
   "source": [
    "X_train,X_test,Y_train,Y_test = train_test_split(X,Y,test_size = 0.3)"
   ]
  },
  {
   "cell_type": "code",
   "execution_count": 86,
   "id": "0560863c",
   "metadata": {},
   "outputs": [
    {
     "name": "stdout",
     "output_type": "stream",
     "text": [
      "Total sample in x_train :  3900 \n",
      "Total sample in x_test :  1672 \n",
      "Total sample of y_train :  3900 \n",
      "Total sample of y_test :  1672\n"
     ]
    }
   ],
   "source": [
    "print(\"Total sample in x_train : \",X_train.shape[0],\"\\nTotal sample in x_test : \",X_test.shape[0],\"\\nTotal sample of y_train : \",Y_train.shape[0],\"\\nTotal sample of y_test : \",Y_test.shape[0])"
   ]
  },
  {
   "cell_type": "markdown",
   "id": "b2b0f2d1",
   "metadata": {},
   "source": [
    "### Model 1: Logistic Regression"
   ]
  },
  {
   "cell_type": "code",
   "execution_count": 178,
   "id": "ce3fdd82",
   "metadata": {},
   "outputs": [],
   "source": [
    "model1=LogisticRegression(C=1.0,random_state=7)"
   ]
  },
  {
   "cell_type": "code",
   "execution_count": 179,
   "id": "195358ee",
   "metadata": {},
   "outputs": [
    {
     "data": {
      "text/html": [
       "<style>#sk-container-id-11 {color: black;}#sk-container-id-11 pre{padding: 0;}#sk-container-id-11 div.sk-toggleable {background-color: white;}#sk-container-id-11 label.sk-toggleable__label {cursor: pointer;display: block;width: 100%;margin-bottom: 0;padding: 0.3em;box-sizing: border-box;text-align: center;}#sk-container-id-11 label.sk-toggleable__label-arrow:before {content: \"▸\";float: left;margin-right: 0.25em;color: #696969;}#sk-container-id-11 label.sk-toggleable__label-arrow:hover:before {color: black;}#sk-container-id-11 div.sk-estimator:hover label.sk-toggleable__label-arrow:before {color: black;}#sk-container-id-11 div.sk-toggleable__content {max-height: 0;max-width: 0;overflow: hidden;text-align: left;background-color: #f0f8ff;}#sk-container-id-11 div.sk-toggleable__content pre {margin: 0.2em;color: black;border-radius: 0.25em;background-color: #f0f8ff;}#sk-container-id-11 input.sk-toggleable__control:checked~div.sk-toggleable__content {max-height: 200px;max-width: 100%;overflow: auto;}#sk-container-id-11 input.sk-toggleable__control:checked~label.sk-toggleable__label-arrow:before {content: \"▾\";}#sk-container-id-11 div.sk-estimator input.sk-toggleable__control:checked~label.sk-toggleable__label {background-color: #d4ebff;}#sk-container-id-11 div.sk-label input.sk-toggleable__control:checked~label.sk-toggleable__label {background-color: #d4ebff;}#sk-container-id-11 input.sk-hidden--visually {border: 0;clip: rect(1px 1px 1px 1px);clip: rect(1px, 1px, 1px, 1px);height: 1px;margin: -1px;overflow: hidden;padding: 0;position: absolute;width: 1px;}#sk-container-id-11 div.sk-estimator {font-family: monospace;background-color: #f0f8ff;border: 1px dotted black;border-radius: 0.25em;box-sizing: border-box;margin-bottom: 0.5em;}#sk-container-id-11 div.sk-estimator:hover {background-color: #d4ebff;}#sk-container-id-11 div.sk-parallel-item::after {content: \"\";width: 100%;border-bottom: 1px solid gray;flex-grow: 1;}#sk-container-id-11 div.sk-label:hover label.sk-toggleable__label {background-color: #d4ebff;}#sk-container-id-11 div.sk-serial::before {content: \"\";position: absolute;border-left: 1px solid gray;box-sizing: border-box;top: 0;bottom: 0;left: 50%;z-index: 0;}#sk-container-id-11 div.sk-serial {display: flex;flex-direction: column;align-items: center;background-color: white;padding-right: 0.2em;padding-left: 0.2em;position: relative;}#sk-container-id-11 div.sk-item {position: relative;z-index: 1;}#sk-container-id-11 div.sk-parallel {display: flex;align-items: stretch;justify-content: center;background-color: white;position: relative;}#sk-container-id-11 div.sk-item::before, #sk-container-id-11 div.sk-parallel-item::before {content: \"\";position: absolute;border-left: 1px solid gray;box-sizing: border-box;top: 0;bottom: 0;left: 50%;z-index: -1;}#sk-container-id-11 div.sk-parallel-item {display: flex;flex-direction: column;z-index: 1;position: relative;background-color: white;}#sk-container-id-11 div.sk-parallel-item:first-child::after {align-self: flex-end;width: 50%;}#sk-container-id-11 div.sk-parallel-item:last-child::after {align-self: flex-start;width: 50%;}#sk-container-id-11 div.sk-parallel-item:only-child::after {width: 0;}#sk-container-id-11 div.sk-dashed-wrapped {border: 1px dashed gray;margin: 0 0.4em 0.5em 0.4em;box-sizing: border-box;padding-bottom: 0.4em;background-color: white;}#sk-container-id-11 div.sk-label label {font-family: monospace;font-weight: bold;display: inline-block;line-height: 1.2em;}#sk-container-id-11 div.sk-label-container {text-align: center;}#sk-container-id-11 div.sk-container {/* jupyter's `normalize.less` sets `[hidden] { display: none; }` but bootstrap.min.css set `[hidden] { display: none !important; }` so we also need the `!important` here to be able to override the default hidden behavior on the sphinx rendered scikit-learn.org. See: https://github.com/scikit-learn/scikit-learn/issues/21755 */display: inline-block !important;position: relative;}#sk-container-id-11 div.sk-text-repr-fallback {display: none;}</style><div id=\"sk-container-id-11\" class=\"sk-top-container\"><div class=\"sk-text-repr-fallback\"><pre>LogisticRegression(random_state=7)</pre><b>In a Jupyter environment, please rerun this cell to show the HTML representation or trust the notebook. <br />On GitHub, the HTML representation is unable to render, please try loading this page with nbviewer.org.</b></div><div class=\"sk-container\" hidden><div class=\"sk-item\"><div class=\"sk-estimator sk-toggleable\"><input class=\"sk-toggleable__control sk-hidden--visually\" id=\"sk-estimator-id-11\" type=\"checkbox\" checked><label for=\"sk-estimator-id-11\" class=\"sk-toggleable__label sk-toggleable__label-arrow\">LogisticRegression</label><div class=\"sk-toggleable__content\"><pre>LogisticRegression(random_state=7)</pre></div></div></div></div></div>"
      ],
      "text/plain": [
       "LogisticRegression(random_state=7)"
      ]
     },
     "execution_count": 179,
     "metadata": {},
     "output_type": "execute_result"
    }
   ],
   "source": [
    "model1.fit(X_train,Y_train)"
   ]
  },
  {
   "cell_type": "code",
   "execution_count": 180,
   "id": "22bdde18",
   "metadata": {},
   "outputs": [],
   "source": [
    "Y_pred1 = model1.predict(X_test)"
   ]
  },
  {
   "cell_type": "code",
   "execution_count": 181,
   "id": "65c16441",
   "metadata": {},
   "outputs": [
    {
     "name": "stdout",
     "output_type": "stream",
     "text": [
      "Accuracy (Logistic Regression) =  97.48803827751196\n"
     ]
    }
   ],
   "source": [
    "model1_acc = accuracy_score(Y_test,Y_pred1)\n",
    "print (\"Accuracy (Logistic Regression) = \",model1_acc*100)"
   ]
  },
  {
   "cell_type": "markdown",
   "id": "d162c498",
   "metadata": {},
   "source": [
    "### Model 2: Naive bayes"
   ]
  },
  {
   "cell_type": "code",
   "execution_count": 100,
   "id": "1ddca928",
   "metadata": {},
   "outputs": [],
   "source": [
    "model2 = MultinomialNB(alpha = 0.01)"
   ]
  },
  {
   "cell_type": "code",
   "execution_count": 101,
   "id": "e2d8d254",
   "metadata": {},
   "outputs": [
    {
     "data": {
      "text/html": [
       "<style>#sk-container-id-3 {color: black;}#sk-container-id-3 pre{padding: 0;}#sk-container-id-3 div.sk-toggleable {background-color: white;}#sk-container-id-3 label.sk-toggleable__label {cursor: pointer;display: block;width: 100%;margin-bottom: 0;padding: 0.3em;box-sizing: border-box;text-align: center;}#sk-container-id-3 label.sk-toggleable__label-arrow:before {content: \"▸\";float: left;margin-right: 0.25em;color: #696969;}#sk-container-id-3 label.sk-toggleable__label-arrow:hover:before {color: black;}#sk-container-id-3 div.sk-estimator:hover label.sk-toggleable__label-arrow:before {color: black;}#sk-container-id-3 div.sk-toggleable__content {max-height: 0;max-width: 0;overflow: hidden;text-align: left;background-color: #f0f8ff;}#sk-container-id-3 div.sk-toggleable__content pre {margin: 0.2em;color: black;border-radius: 0.25em;background-color: #f0f8ff;}#sk-container-id-3 input.sk-toggleable__control:checked~div.sk-toggleable__content {max-height: 200px;max-width: 100%;overflow: auto;}#sk-container-id-3 input.sk-toggleable__control:checked~label.sk-toggleable__label-arrow:before {content: \"▾\";}#sk-container-id-3 div.sk-estimator input.sk-toggleable__control:checked~label.sk-toggleable__label {background-color: #d4ebff;}#sk-container-id-3 div.sk-label input.sk-toggleable__control:checked~label.sk-toggleable__label {background-color: #d4ebff;}#sk-container-id-3 input.sk-hidden--visually {border: 0;clip: rect(1px 1px 1px 1px);clip: rect(1px, 1px, 1px, 1px);height: 1px;margin: -1px;overflow: hidden;padding: 0;position: absolute;width: 1px;}#sk-container-id-3 div.sk-estimator {font-family: monospace;background-color: #f0f8ff;border: 1px dotted black;border-radius: 0.25em;box-sizing: border-box;margin-bottom: 0.5em;}#sk-container-id-3 div.sk-estimator:hover {background-color: #d4ebff;}#sk-container-id-3 div.sk-parallel-item::after {content: \"\";width: 100%;border-bottom: 1px solid gray;flex-grow: 1;}#sk-container-id-3 div.sk-label:hover label.sk-toggleable__label {background-color: #d4ebff;}#sk-container-id-3 div.sk-serial::before {content: \"\";position: absolute;border-left: 1px solid gray;box-sizing: border-box;top: 0;bottom: 0;left: 50%;z-index: 0;}#sk-container-id-3 div.sk-serial {display: flex;flex-direction: column;align-items: center;background-color: white;padding-right: 0.2em;padding-left: 0.2em;position: relative;}#sk-container-id-3 div.sk-item {position: relative;z-index: 1;}#sk-container-id-3 div.sk-parallel {display: flex;align-items: stretch;justify-content: center;background-color: white;position: relative;}#sk-container-id-3 div.sk-item::before, #sk-container-id-3 div.sk-parallel-item::before {content: \"\";position: absolute;border-left: 1px solid gray;box-sizing: border-box;top: 0;bottom: 0;left: 50%;z-index: -1;}#sk-container-id-3 div.sk-parallel-item {display: flex;flex-direction: column;z-index: 1;position: relative;background-color: white;}#sk-container-id-3 div.sk-parallel-item:first-child::after {align-self: flex-end;width: 50%;}#sk-container-id-3 div.sk-parallel-item:last-child::after {align-self: flex-start;width: 50%;}#sk-container-id-3 div.sk-parallel-item:only-child::after {width: 0;}#sk-container-id-3 div.sk-dashed-wrapped {border: 1px dashed gray;margin: 0 0.4em 0.5em 0.4em;box-sizing: border-box;padding-bottom: 0.4em;background-color: white;}#sk-container-id-3 div.sk-label label {font-family: monospace;font-weight: bold;display: inline-block;line-height: 1.2em;}#sk-container-id-3 div.sk-label-container {text-align: center;}#sk-container-id-3 div.sk-container {/* jupyter's `normalize.less` sets `[hidden] { display: none; }` but bootstrap.min.css set `[hidden] { display: none !important; }` so we also need the `!important` here to be able to override the default hidden behavior on the sphinx rendered scikit-learn.org. See: https://github.com/scikit-learn/scikit-learn/issues/21755 */display: inline-block !important;position: relative;}#sk-container-id-3 div.sk-text-repr-fallback {display: none;}</style><div id=\"sk-container-id-3\" class=\"sk-top-container\"><div class=\"sk-text-repr-fallback\"><pre>MultinomialNB(alpha=0.01)</pre><b>In a Jupyter environment, please rerun this cell to show the HTML representation or trust the notebook. <br />On GitHub, the HTML representation is unable to render, please try loading this page with nbviewer.org.</b></div><div class=\"sk-container\" hidden><div class=\"sk-item\"><div class=\"sk-estimator sk-toggleable\"><input class=\"sk-toggleable__control sk-hidden--visually\" id=\"sk-estimator-id-3\" type=\"checkbox\" checked><label for=\"sk-estimator-id-3\" class=\"sk-toggleable__label sk-toggleable__label-arrow\">MultinomialNB</label><div class=\"sk-toggleable__content\"><pre>MultinomialNB(alpha=0.01)</pre></div></div></div></div></div>"
      ],
      "text/plain": [
       "MultinomialNB(alpha=0.01)"
      ]
     },
     "execution_count": 101,
     "metadata": {},
     "output_type": "execute_result"
    }
   ],
   "source": [
    "model2.fit(X_train,Y_train)"
   ]
  },
  {
   "cell_type": "code",
   "execution_count": 102,
   "id": "1c8b43f2",
   "metadata": {},
   "outputs": [],
   "source": [
    "Y_pred2 = model2.predict(X_test)"
   ]
  },
  {
   "cell_type": "code",
   "execution_count": 103,
   "id": "8dc2b8d7",
   "metadata": {},
   "outputs": [
    {
     "name": "stdout",
     "output_type": "stream",
     "text": [
      "Accuracy (Naive bayes) =  98.14593301435407\n"
     ]
    }
   ],
   "source": [
    "model2_acc = accuracy_score(Y_test,Y_pred2)\n",
    "print (\"Accuracy (Naive bayes) = \",model2_acc*100)"
   ]
  },
  {
   "cell_type": "markdown",
   "id": "adbc6c51",
   "metadata": {},
   "source": [
    "### Model 3: Support Vector"
   ]
  },
  {
   "cell_type": "code",
   "execution_count": 114,
   "id": "ff7499d4",
   "metadata": {},
   "outputs": [],
   "source": [
    "model3 = SVC()"
   ]
  },
  {
   "cell_type": "code",
   "execution_count": 115,
   "id": "2ad52bcd",
   "metadata": {},
   "outputs": [
    {
     "data": {
      "text/html": [
       "<style>#sk-container-id-5 {color: black;}#sk-container-id-5 pre{padding: 0;}#sk-container-id-5 div.sk-toggleable {background-color: white;}#sk-container-id-5 label.sk-toggleable__label {cursor: pointer;display: block;width: 100%;margin-bottom: 0;padding: 0.3em;box-sizing: border-box;text-align: center;}#sk-container-id-5 label.sk-toggleable__label-arrow:before {content: \"▸\";float: left;margin-right: 0.25em;color: #696969;}#sk-container-id-5 label.sk-toggleable__label-arrow:hover:before {color: black;}#sk-container-id-5 div.sk-estimator:hover label.sk-toggleable__label-arrow:before {color: black;}#sk-container-id-5 div.sk-toggleable__content {max-height: 0;max-width: 0;overflow: hidden;text-align: left;background-color: #f0f8ff;}#sk-container-id-5 div.sk-toggleable__content pre {margin: 0.2em;color: black;border-radius: 0.25em;background-color: #f0f8ff;}#sk-container-id-5 input.sk-toggleable__control:checked~div.sk-toggleable__content {max-height: 200px;max-width: 100%;overflow: auto;}#sk-container-id-5 input.sk-toggleable__control:checked~label.sk-toggleable__label-arrow:before {content: \"▾\";}#sk-container-id-5 div.sk-estimator input.sk-toggleable__control:checked~label.sk-toggleable__label {background-color: #d4ebff;}#sk-container-id-5 div.sk-label input.sk-toggleable__control:checked~label.sk-toggleable__label {background-color: #d4ebff;}#sk-container-id-5 input.sk-hidden--visually {border: 0;clip: rect(1px 1px 1px 1px);clip: rect(1px, 1px, 1px, 1px);height: 1px;margin: -1px;overflow: hidden;padding: 0;position: absolute;width: 1px;}#sk-container-id-5 div.sk-estimator {font-family: monospace;background-color: #f0f8ff;border: 1px dotted black;border-radius: 0.25em;box-sizing: border-box;margin-bottom: 0.5em;}#sk-container-id-5 div.sk-estimator:hover {background-color: #d4ebff;}#sk-container-id-5 div.sk-parallel-item::after {content: \"\";width: 100%;border-bottom: 1px solid gray;flex-grow: 1;}#sk-container-id-5 div.sk-label:hover label.sk-toggleable__label {background-color: #d4ebff;}#sk-container-id-5 div.sk-serial::before {content: \"\";position: absolute;border-left: 1px solid gray;box-sizing: border-box;top: 0;bottom: 0;left: 50%;z-index: 0;}#sk-container-id-5 div.sk-serial {display: flex;flex-direction: column;align-items: center;background-color: white;padding-right: 0.2em;padding-left: 0.2em;position: relative;}#sk-container-id-5 div.sk-item {position: relative;z-index: 1;}#sk-container-id-5 div.sk-parallel {display: flex;align-items: stretch;justify-content: center;background-color: white;position: relative;}#sk-container-id-5 div.sk-item::before, #sk-container-id-5 div.sk-parallel-item::before {content: \"\";position: absolute;border-left: 1px solid gray;box-sizing: border-box;top: 0;bottom: 0;left: 50%;z-index: -1;}#sk-container-id-5 div.sk-parallel-item {display: flex;flex-direction: column;z-index: 1;position: relative;background-color: white;}#sk-container-id-5 div.sk-parallel-item:first-child::after {align-self: flex-end;width: 50%;}#sk-container-id-5 div.sk-parallel-item:last-child::after {align-self: flex-start;width: 50%;}#sk-container-id-5 div.sk-parallel-item:only-child::after {width: 0;}#sk-container-id-5 div.sk-dashed-wrapped {border: 1px dashed gray;margin: 0 0.4em 0.5em 0.4em;box-sizing: border-box;padding-bottom: 0.4em;background-color: white;}#sk-container-id-5 div.sk-label label {font-family: monospace;font-weight: bold;display: inline-block;line-height: 1.2em;}#sk-container-id-5 div.sk-label-container {text-align: center;}#sk-container-id-5 div.sk-container {/* jupyter's `normalize.less` sets `[hidden] { display: none; }` but bootstrap.min.css set `[hidden] { display: none !important; }` so we also need the `!important` here to be able to override the default hidden behavior on the sphinx rendered scikit-learn.org. See: https://github.com/scikit-learn/scikit-learn/issues/21755 */display: inline-block !important;position: relative;}#sk-container-id-5 div.sk-text-repr-fallback {display: none;}</style><div id=\"sk-container-id-5\" class=\"sk-top-container\"><div class=\"sk-text-repr-fallback\"><pre>SVC()</pre><b>In a Jupyter environment, please rerun this cell to show the HTML representation or trust the notebook. <br />On GitHub, the HTML representation is unable to render, please try loading this page with nbviewer.org.</b></div><div class=\"sk-container\" hidden><div class=\"sk-item\"><div class=\"sk-estimator sk-toggleable\"><input class=\"sk-toggleable__control sk-hidden--visually\" id=\"sk-estimator-id-5\" type=\"checkbox\" checked><label for=\"sk-estimator-id-5\" class=\"sk-toggleable__label sk-toggleable__label-arrow\">SVC</label><div class=\"sk-toggleable__content\"><pre>SVC()</pre></div></div></div></div></div>"
      ],
      "text/plain": [
       "SVC()"
      ]
     },
     "execution_count": 115,
     "metadata": {},
     "output_type": "execute_result"
    }
   ],
   "source": [
    "model3.fit(X_train,Y_train)"
   ]
  },
  {
   "cell_type": "code",
   "execution_count": 116,
   "id": "1932d7c3",
   "metadata": {},
   "outputs": [],
   "source": [
    "Y_pred3 = model3.predict(X_test)"
   ]
  },
  {
   "cell_type": "code",
   "execution_count": 117,
   "id": "dfacceba",
   "metadata": {},
   "outputs": [
    {
     "name": "stdout",
     "output_type": "stream",
     "text": [
      "Accuracy (Support Vector) =  98.50478468899522\n"
     ]
    }
   ],
   "source": [
    "model3_acc = accuracy_score(Y_test,Y_pred3)\n",
    "print (\"Accuracy (Support Vector) = \",model3_acc*100)"
   ]
  },
  {
   "cell_type": "markdown",
   "id": "62858a04",
   "metadata": {},
   "source": [
    "### Model 4: KNN classification"
   ]
  },
  {
   "cell_type": "code",
   "execution_count": 118,
   "id": "1325b364",
   "metadata": {},
   "outputs": [],
   "source": [
    "model4 = KNeighborsClassifier(n_neighbors = 7)"
   ]
  },
  {
   "cell_type": "code",
   "execution_count": 119,
   "id": "70904295",
   "metadata": {},
   "outputs": [
    {
     "data": {
      "text/html": [
       "<style>#sk-container-id-6 {color: black;}#sk-container-id-6 pre{padding: 0;}#sk-container-id-6 div.sk-toggleable {background-color: white;}#sk-container-id-6 label.sk-toggleable__label {cursor: pointer;display: block;width: 100%;margin-bottom: 0;padding: 0.3em;box-sizing: border-box;text-align: center;}#sk-container-id-6 label.sk-toggleable__label-arrow:before {content: \"▸\";float: left;margin-right: 0.25em;color: #696969;}#sk-container-id-6 label.sk-toggleable__label-arrow:hover:before {color: black;}#sk-container-id-6 div.sk-estimator:hover label.sk-toggleable__label-arrow:before {color: black;}#sk-container-id-6 div.sk-toggleable__content {max-height: 0;max-width: 0;overflow: hidden;text-align: left;background-color: #f0f8ff;}#sk-container-id-6 div.sk-toggleable__content pre {margin: 0.2em;color: black;border-radius: 0.25em;background-color: #f0f8ff;}#sk-container-id-6 input.sk-toggleable__control:checked~div.sk-toggleable__content {max-height: 200px;max-width: 100%;overflow: auto;}#sk-container-id-6 input.sk-toggleable__control:checked~label.sk-toggleable__label-arrow:before {content: \"▾\";}#sk-container-id-6 div.sk-estimator input.sk-toggleable__control:checked~label.sk-toggleable__label {background-color: #d4ebff;}#sk-container-id-6 div.sk-label input.sk-toggleable__control:checked~label.sk-toggleable__label {background-color: #d4ebff;}#sk-container-id-6 input.sk-hidden--visually {border: 0;clip: rect(1px 1px 1px 1px);clip: rect(1px, 1px, 1px, 1px);height: 1px;margin: -1px;overflow: hidden;padding: 0;position: absolute;width: 1px;}#sk-container-id-6 div.sk-estimator {font-family: monospace;background-color: #f0f8ff;border: 1px dotted black;border-radius: 0.25em;box-sizing: border-box;margin-bottom: 0.5em;}#sk-container-id-6 div.sk-estimator:hover {background-color: #d4ebff;}#sk-container-id-6 div.sk-parallel-item::after {content: \"\";width: 100%;border-bottom: 1px solid gray;flex-grow: 1;}#sk-container-id-6 div.sk-label:hover label.sk-toggleable__label {background-color: #d4ebff;}#sk-container-id-6 div.sk-serial::before {content: \"\";position: absolute;border-left: 1px solid gray;box-sizing: border-box;top: 0;bottom: 0;left: 50%;z-index: 0;}#sk-container-id-6 div.sk-serial {display: flex;flex-direction: column;align-items: center;background-color: white;padding-right: 0.2em;padding-left: 0.2em;position: relative;}#sk-container-id-6 div.sk-item {position: relative;z-index: 1;}#sk-container-id-6 div.sk-parallel {display: flex;align-items: stretch;justify-content: center;background-color: white;position: relative;}#sk-container-id-6 div.sk-item::before, #sk-container-id-6 div.sk-parallel-item::before {content: \"\";position: absolute;border-left: 1px solid gray;box-sizing: border-box;top: 0;bottom: 0;left: 50%;z-index: -1;}#sk-container-id-6 div.sk-parallel-item {display: flex;flex-direction: column;z-index: 1;position: relative;background-color: white;}#sk-container-id-6 div.sk-parallel-item:first-child::after {align-self: flex-end;width: 50%;}#sk-container-id-6 div.sk-parallel-item:last-child::after {align-self: flex-start;width: 50%;}#sk-container-id-6 div.sk-parallel-item:only-child::after {width: 0;}#sk-container-id-6 div.sk-dashed-wrapped {border: 1px dashed gray;margin: 0 0.4em 0.5em 0.4em;box-sizing: border-box;padding-bottom: 0.4em;background-color: white;}#sk-container-id-6 div.sk-label label {font-family: monospace;font-weight: bold;display: inline-block;line-height: 1.2em;}#sk-container-id-6 div.sk-label-container {text-align: center;}#sk-container-id-6 div.sk-container {/* jupyter's `normalize.less` sets `[hidden] { display: none; }` but bootstrap.min.css set `[hidden] { display: none !important; }` so we also need the `!important` here to be able to override the default hidden behavior on the sphinx rendered scikit-learn.org. See: https://github.com/scikit-learn/scikit-learn/issues/21755 */display: inline-block !important;position: relative;}#sk-container-id-6 div.sk-text-repr-fallback {display: none;}</style><div id=\"sk-container-id-6\" class=\"sk-top-container\"><div class=\"sk-text-repr-fallback\"><pre>KNeighborsClassifier(n_neighbors=7)</pre><b>In a Jupyter environment, please rerun this cell to show the HTML representation or trust the notebook. <br />On GitHub, the HTML representation is unable to render, please try loading this page with nbviewer.org.</b></div><div class=\"sk-container\" hidden><div class=\"sk-item\"><div class=\"sk-estimator sk-toggleable\"><input class=\"sk-toggleable__control sk-hidden--visually\" id=\"sk-estimator-id-6\" type=\"checkbox\" checked><label for=\"sk-estimator-id-6\" class=\"sk-toggleable__label sk-toggleable__label-arrow\">KNeighborsClassifier</label><div class=\"sk-toggleable__content\"><pre>KNeighborsClassifier(n_neighbors=7)</pre></div></div></div></div></div>"
      ],
      "text/plain": [
       "KNeighborsClassifier(n_neighbors=7)"
      ]
     },
     "execution_count": 119,
     "metadata": {},
     "output_type": "execute_result"
    }
   ],
   "source": [
    "model4.fit(X_train,Y_train)"
   ]
  },
  {
   "cell_type": "code",
   "execution_count": 120,
   "id": "79f04042",
   "metadata": {},
   "outputs": [],
   "source": [
    "Y_pred4 = model4.predict(X_test)"
   ]
  },
  {
   "cell_type": "code",
   "execution_count": 121,
   "id": "ad900092",
   "metadata": {},
   "outputs": [
    {
     "name": "stdout",
     "output_type": "stream",
     "text": [
      "Accuracy (KNN classification) =  91.32775119617224\n"
     ]
    }
   ],
   "source": [
    "model4_acc = accuracy_score(Y_test,Y_pred4)\n",
    "print (\"Accuracy (KNN classification) = \",model4_acc*100)"
   ]
  },
  {
   "cell_type": "markdown",
   "id": "82c5db92",
   "metadata": {},
   "source": [
    "### Model 5: Random Forest"
   ]
  },
  {
   "cell_type": "code",
   "execution_count": 192,
   "id": "8649c02f",
   "metadata": {},
   "outputs": [],
   "source": [
    "model5 = RandomForestClassifier()"
   ]
  },
  {
   "cell_type": "code",
   "execution_count": 193,
   "id": "9ea6e77d",
   "metadata": {},
   "outputs": [
    {
     "data": {
      "text/html": [
       "<style>#sk-container-id-12 {color: black;}#sk-container-id-12 pre{padding: 0;}#sk-container-id-12 div.sk-toggleable {background-color: white;}#sk-container-id-12 label.sk-toggleable__label {cursor: pointer;display: block;width: 100%;margin-bottom: 0;padding: 0.3em;box-sizing: border-box;text-align: center;}#sk-container-id-12 label.sk-toggleable__label-arrow:before {content: \"▸\";float: left;margin-right: 0.25em;color: #696969;}#sk-container-id-12 label.sk-toggleable__label-arrow:hover:before {color: black;}#sk-container-id-12 div.sk-estimator:hover label.sk-toggleable__label-arrow:before {color: black;}#sk-container-id-12 div.sk-toggleable__content {max-height: 0;max-width: 0;overflow: hidden;text-align: left;background-color: #f0f8ff;}#sk-container-id-12 div.sk-toggleable__content pre {margin: 0.2em;color: black;border-radius: 0.25em;background-color: #f0f8ff;}#sk-container-id-12 input.sk-toggleable__control:checked~div.sk-toggleable__content {max-height: 200px;max-width: 100%;overflow: auto;}#sk-container-id-12 input.sk-toggleable__control:checked~label.sk-toggleable__label-arrow:before {content: \"▾\";}#sk-container-id-12 div.sk-estimator input.sk-toggleable__control:checked~label.sk-toggleable__label {background-color: #d4ebff;}#sk-container-id-12 div.sk-label input.sk-toggleable__control:checked~label.sk-toggleable__label {background-color: #d4ebff;}#sk-container-id-12 input.sk-hidden--visually {border: 0;clip: rect(1px 1px 1px 1px);clip: rect(1px, 1px, 1px, 1px);height: 1px;margin: -1px;overflow: hidden;padding: 0;position: absolute;width: 1px;}#sk-container-id-12 div.sk-estimator {font-family: monospace;background-color: #f0f8ff;border: 1px dotted black;border-radius: 0.25em;box-sizing: border-box;margin-bottom: 0.5em;}#sk-container-id-12 div.sk-estimator:hover {background-color: #d4ebff;}#sk-container-id-12 div.sk-parallel-item::after {content: \"\";width: 100%;border-bottom: 1px solid gray;flex-grow: 1;}#sk-container-id-12 div.sk-label:hover label.sk-toggleable__label {background-color: #d4ebff;}#sk-container-id-12 div.sk-serial::before {content: \"\";position: absolute;border-left: 1px solid gray;box-sizing: border-box;top: 0;bottom: 0;left: 50%;z-index: 0;}#sk-container-id-12 div.sk-serial {display: flex;flex-direction: column;align-items: center;background-color: white;padding-right: 0.2em;padding-left: 0.2em;position: relative;}#sk-container-id-12 div.sk-item {position: relative;z-index: 1;}#sk-container-id-12 div.sk-parallel {display: flex;align-items: stretch;justify-content: center;background-color: white;position: relative;}#sk-container-id-12 div.sk-item::before, #sk-container-id-12 div.sk-parallel-item::before {content: \"\";position: absolute;border-left: 1px solid gray;box-sizing: border-box;top: 0;bottom: 0;left: 50%;z-index: -1;}#sk-container-id-12 div.sk-parallel-item {display: flex;flex-direction: column;z-index: 1;position: relative;background-color: white;}#sk-container-id-12 div.sk-parallel-item:first-child::after {align-self: flex-end;width: 50%;}#sk-container-id-12 div.sk-parallel-item:last-child::after {align-self: flex-start;width: 50%;}#sk-container-id-12 div.sk-parallel-item:only-child::after {width: 0;}#sk-container-id-12 div.sk-dashed-wrapped {border: 1px dashed gray;margin: 0 0.4em 0.5em 0.4em;box-sizing: border-box;padding-bottom: 0.4em;background-color: white;}#sk-container-id-12 div.sk-label label {font-family: monospace;font-weight: bold;display: inline-block;line-height: 1.2em;}#sk-container-id-12 div.sk-label-container {text-align: center;}#sk-container-id-12 div.sk-container {/* jupyter's `normalize.less` sets `[hidden] { display: none; }` but bootstrap.min.css set `[hidden] { display: none !important; }` so we also need the `!important` here to be able to override the default hidden behavior on the sphinx rendered scikit-learn.org. See: https://github.com/scikit-learn/scikit-learn/issues/21755 */display: inline-block !important;position: relative;}#sk-container-id-12 div.sk-text-repr-fallback {display: none;}</style><div id=\"sk-container-id-12\" class=\"sk-top-container\"><div class=\"sk-text-repr-fallback\"><pre>RandomForestClassifier()</pre><b>In a Jupyter environment, please rerun this cell to show the HTML representation or trust the notebook. <br />On GitHub, the HTML representation is unable to render, please try loading this page with nbviewer.org.</b></div><div class=\"sk-container\" hidden><div class=\"sk-item\"><div class=\"sk-estimator sk-toggleable\"><input class=\"sk-toggleable__control sk-hidden--visually\" id=\"sk-estimator-id-12\" type=\"checkbox\" checked><label for=\"sk-estimator-id-12\" class=\"sk-toggleable__label sk-toggleable__label-arrow\">RandomForestClassifier</label><div class=\"sk-toggleable__content\"><pre>RandomForestClassifier()</pre></div></div></div></div></div>"
      ],
      "text/plain": [
       "RandomForestClassifier()"
      ]
     },
     "execution_count": 193,
     "metadata": {},
     "output_type": "execute_result"
    }
   ],
   "source": [
    "model5.fit(X_train,Y_train)"
   ]
  },
  {
   "cell_type": "code",
   "execution_count": 194,
   "id": "701eb2f1",
   "metadata": {},
   "outputs": [],
   "source": [
    "Y_pred5 = model5.predict(X_test)"
   ]
  },
  {
   "cell_type": "code",
   "execution_count": 195,
   "id": "2d7400b0",
   "metadata": {},
   "outputs": [
    {
     "name": "stdout",
     "output_type": "stream",
     "text": [
      "Accuracy (Random Forest) =  98.26555023923444\n"
     ]
    }
   ],
   "source": [
    "model5_acc = accuracy_score(Y_test,Y_pred5)\n",
    "print (\"Accuracy (Random Forest) = \",model5_acc*100)"
   ]
  },
  {
   "cell_type": "code",
   "execution_count": 196,
   "id": "dae1c0ca",
   "metadata": {},
   "outputs": [
    {
     "data": {
      "text/html": [
       "<div>\n",
       "<style scoped>\n",
       "    .dataframe tbody tr th:only-of-type {\n",
       "        vertical-align: middle;\n",
       "    }\n",
       "\n",
       "    .dataframe tbody tr th {\n",
       "        vertical-align: top;\n",
       "    }\n",
       "\n",
       "    .dataframe thead th {\n",
       "        text-align: right;\n",
       "    }\n",
       "</style>\n",
       "<table border=\"1\" class=\"dataframe\">\n",
       "  <thead>\n",
       "    <tr style=\"text-align: right;\">\n",
       "      <th></th>\n",
       "      <th>Model</th>\n",
       "      <th>Accuracy</th>\n",
       "    </tr>\n",
       "  </thead>\n",
       "  <tbody>\n",
       "    <tr>\n",
       "      <th>0</th>\n",
       "      <td>Logistic_Regression</td>\n",
       "      <td>97.488038</td>\n",
       "    </tr>\n",
       "    <tr>\n",
       "      <th>1</th>\n",
       "      <td>Naive bayes</td>\n",
       "      <td>98.145933</td>\n",
       "    </tr>\n",
       "    <tr>\n",
       "      <th>2</th>\n",
       "      <td>Support Vector</td>\n",
       "      <td>98.504785</td>\n",
       "    </tr>\n",
       "    <tr>\n",
       "      <th>3</th>\n",
       "      <td>KNN_Classifier</td>\n",
       "      <td>91.327751</td>\n",
       "    </tr>\n",
       "    <tr>\n",
       "      <th>4</th>\n",
       "      <td>Random Forest</td>\n",
       "      <td>98.265550</td>\n",
       "    </tr>\n",
       "  </tbody>\n",
       "</table>\n",
       "</div>"
      ],
      "text/plain": [
       "                 Model   Accuracy\n",
       "0  Logistic_Regression  97.488038\n",
       "1          Naive bayes  98.145933\n",
       "2       Support Vector  98.504785\n",
       "3       KNN_Classifier  91.327751\n",
       "4        Random Forest  98.265550"
      ]
     },
     "execution_count": 196,
     "metadata": {},
     "output_type": "execute_result"
    }
   ],
   "source": [
    "results = pd.DataFrame({\"Model\":[\"Logistic_Regression\",\"Naive bayes\",\"Support Vector\",\"KNN_Classifier\",\"Random Forest\"],\"Accuracy\":[model1_acc*100,model2_acc*100,model3_acc*100,model4_acc*100,model5_acc*100]})\n",
    "results"
   ]
  },
  {
   "cell_type": "code",
   "execution_count": 197,
   "id": "cebf7b95",
   "metadata": {},
   "outputs": [
    {
     "data": {
      "image/png": "[encoded data removed]",
      "text/plain": [
       "<Figure size 800x550 with 1 Axes>"
      ]
     },
     "metadata": {},
     "output_type": "display_data"
    }
   ],
   "source": [
    "fig, ax = plt.subplots()\n",
    "ax.bar(results['Model'],results['Accuracy'])\n",
    "plt.xlabel(\"Models\")\n",
    "plt.ylabel(\"Accuracy\")\n",
    "plt.title(\"Bar plot of models and Accuracy\")\n",
    "plt.show()"
   ]
  },
  {
   "cell_type": "markdown",
   "id": "57dd17ed",
   "metadata": {},
   "source": [
    "### Test Model with input data"
   ]
  },
  {
   "cell_type": "code",
   "execution_count": 211,
   "id": "b31a16d4",
   "metadata": {},
   "outputs": [],
   "source": [
    "X_input = ['ACTION REQUIRED. Please verify your Bank of America account information to avoid a hold on your account. Click here to confirm','Our records indicate that you have overpaid for (a product or service). Please provide us with your bank routing and account number to expedite your refund.','Your Wells Fargo account has been temporarily locked due to possible suspicious activity. Please log in here and promptly verify your information for security purposes.','Your Apple ID has been identified as a possible security breach. To protect your account, please verify your Apple ID and password here: [link]','Your Apple ID has been identified as a possible security breach. To protect your account, please verify your Apple ID and password here: [link]','This is an emergency. Your brother needs help. He has been taken hostage, and the ransom to free him is $2,000. Wire money ASAP',\"I've been searching for the right words to thank you for this breather. I promise i wont take your help for granted and will fulfil my promise. You have been wonderful and a blessing at all times.\",\"Yeah he got in at 2 and was v apologetic. n had fallen out and she was actin like spoilt child and he got caught up in that. Till 2! But we won't go there! Not doing too badly cheers. You? \",\"Hello! How's you and how did saturday go? I was just texting to see if you'd decided to do anything tomo. Not that i'm trying to invite myself or anything!\",\"07732584351 - Rodger Burns - MSG = We tried to call you re your reply to our sms for a free nokia mobile + free camcorder. Please call now 08000930705 for delivery tomorrow\",\"07732584351 - Rodger Burns - MSG = We tried to call you re your reply to our sms for a free nokia mobile + free camcorder. Please call now 08000930705 for delivery tomorrow\",\"As a valued customer, I am pleased to advise you that following recent review of your Mob No. you are awarded with a å£1500 Bonus Prize, call 09066364589\",\"For real when u getting on yo? I only need 2 more tickets and one more jacket and I'm done. I already used all my multis.\",\"Please don't text me anymore. I have nothing else to say.\",\"As per your request 'Melle Melle (Oru Minnaminunginte Nurungu Vettam)' has been set as your callertune for all Callers. Press *9 to copy your friends Callertune\"]"
   ]
  },
  {
   "cell_type": "code",
   "execution_count": 212,
   "id": "0ec3a43a",
   "metadata": {},
   "outputs": [
    {
     "data": {
      "text/plain": [
       "['ACTION REQUIRED. Please verify your Bank of America account information to avoid a hold on your account. Click here to confirm',\n",
       " 'Our records indicate that you have overpaid for (a product or service). Please provide us with your bank routing and account number to expedite your refund.',\n",
       " 'Your Wells Fargo account has been temporarily locked due to possible suspicious activity. Please log in here and promptly verify your information for security purposes.',\n",
       " 'Your Apple ID has been identified as a possible security breach. To protect your account, please verify your Apple ID and password here: [link]',\n",
       " 'Your Apple ID has been identified as a possible security breach. To protect your account, please verify your Apple ID and password here: [link]',\n",
       " 'This is an emergency. Your brother needs help. He has been taken hostage, and the ransom to free him is $2,000. Wire money ASAP',\n",
       " \"I've been searching for the right words to thank you for this breather. I promise i wont take your help for granted and will fulfil my promise. You have been wonderful and a blessing at all times.\",\n",
       " \"Yeah he got in at 2 and was v apologetic. n had fallen out and she was actin like spoilt child and he got caught up in that. Till 2! But we won't go there! Not doing too badly cheers. You? \",\n",
       " \"Hello! How's you and how did saturday go? I was just texting to see if you'd decided to do anything tomo. Not that i'm trying to invite myself or anything!\",\n",
       " '07732584351 - Rodger Burns - MSG = We tried to call you re your reply to our sms for a free nokia mobile + free camcorder. Please call now 08000930705 for delivery tomorrow',\n",
       " '07732584351 - Rodger Burns - MSG = We tried to call you re your reply to our sms for a free nokia mobile + free camcorder. Please call now 08000930705 for delivery tomorrow',\n",
       " 'As a valued customer, I am pleased to advise you that following recent review of your Mob No. you are awarded with a å£1500 Bonus Prize, call 09066364589',\n",
       " \"For real when u getting on yo? I only need 2 more tickets and one more jacket and I'm done. I already used all my multis.\",\n",
       " \"Please don't text me anymore. I have nothing else to say.\",\n",
       " \"As per your request 'Melle Melle (Oru Minnaminunginte Nurungu Vettam)' has been set as your callertune for all Callers. Press *9 to copy your friends Callertune\"]"
      ]
     },
     "execution_count": 212,
     "metadata": {},
     "output_type": "execute_result"
    }
   ],
   "source": [
    "X_input"
   ]
  },
  {
   "cell_type": "code",
   "execution_count": 213,
   "id": "8a57d25f",
   "metadata": {},
   "outputs": [],
   "source": [
    "vectorizer = TfidfVectorizer(max_features=1000, ngram_range=(1, 30), stop_words='english')\n",
    "X = vectorizer.fit_transform(X_input)\n"
   ]
  },
  {
   "cell_type": "code",
   "execution_count": 221,
   "id": "7714be92",
   "metadata": {},
   "outputs": [
    {
     "data": {
      "text/plain": [
       "array(['spam', 'spam', 'ham', 'ham', 'ham', 'ham', 'spam', 'ham', 'spam',\n",
       "       'spam', 'spam', 'spam', 'ham', 'ham', 'ham'], dtype=object)"
      ]
     },
     "execution_count": 221,
     "metadata": {},
     "output_type": "execute_result"
    }
   ],
   "source": [
    "Y_output = model5.predict(X)\n",
    "Y_output"
   ]
  }
 ],
 "metadata": {
  "kernelspec": {
   "display_name": "Python 3 (ipykernel)",
   "language": "python",
   "name": "python3"
  },
  "language_info": {
   "codemirror_mode": {
    "name": "ipython",
    "version": 3
   },
   "file_extension": ".py",
   "mimetype": "text/x-python",
   "name": "python",
   "nbconvert_exporter": "python",
   "pygments_lexer": "ipython3",
   "version": "3.11.4"
  }
 },
 "nbformat": 4,
 "nbformat_minor": 5
}
